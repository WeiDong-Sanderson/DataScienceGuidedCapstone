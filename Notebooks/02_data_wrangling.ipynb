{
 "cells": [
  {
   "cell_type": "markdown",
   "metadata": {},
   "source": [
    "# 2 Data wrangling<a id='2_Data_wrangling'></a>"
   ]
  },
  {
   "cell_type": "markdown",
   "metadata": {},
   "source": [
    "## 2.1 Contents<a id='2.1_Contents'></a>\n",
    "* [2 Data wrangling](#2_Data_wrangling)\n",
    "  * [2.1 Contents](#2.1_Contents)\n",
    "  * [2.2 Introduction](#2.2_Introduction)\n",
    "    * [2.2.1 Recap Of Data Science Problem](#2.2.1_Recap_Of_Data_Science_Problem)\n",
    "    * [2.2.2 Introduction To Notebook](#2.2.2_Introduction_To_Notebook)\n",
    "  * [2.3 Imports](#2.3_Imports)\n",
    "  * [2.4 Objectives](#2.4_Objectives)\n",
    "  * [2.5 Load The Ski Resort Data](#2.5_Load_The_Ski_Resort_Data)\n",
    "  * [2.6 Explore The Data](#2.6_Explore_The_Data)\n",
    "    * [2.6.1 Find Your Resort Of Interest](#2.6.1_Find_Your_Resort_Of_Interest)\n",
    "    * [2.6.2 Number Of Missing Values By Column](#2.6.2_Number_Of_Missing_Values_By_Column)\n",
    "    * [2.6.3 Categorical Features](#2.6.3_Categorical_Features)\n",
    "      * [2.6.3.1 Unique Resort Names](#2.6.3.1_Unique_Resort_Names)\n",
    "      * [2.6.3.2 Region And State](#2.6.3.2_Region_And_State)\n",
    "      * [2.6.3.3 Number of distinct regions and states](#2.6.3.3_Number_of_distinct_regions_and_states)\n",
    "      * [2.6.3.4 Distribution Of Resorts By Region And State](#2.6.3.4_Distribution_Of_Resorts_By_Region_And_State)\n",
    "      * [2.6.3.5 Distribution Of Ticket Price By State](#2.6.3.5_Distribution_Of_Ticket_Price_By_State)\n",
    "        * [2.6.3.5.1 Average weekend and weekday price by state](#2.6.3.5.1_Average_weekend_and_weekday_price_by_state)\n",
    "        * [2.6.3.5.2 Distribution of weekday and weekend price by state](#2.6.3.5.2_Distribution_of_weekday_and_weekend_price_by_state)\n",
    "    * [2.6.4 Numeric Features](#2.6.4_Numeric_Features)\n",
    "      * [2.6.4.1 Numeric data summary](#2.6.4.1_Numeric_data_summary)\n",
    "      * [2.6.4.2 Distributions Of Feature Values](#2.6.4.2_Distributions_Of_Feature_Values)\n",
    "        * [2.6.4.2.1 SkiableTerrain_ac](#2.6.4.2.1_SkiableTerrain_ac)\n",
    "        * [2.6.4.2.2 Snow Making_ac](#2.6.4.2.2_Snow_Making_ac)\n",
    "        * [2.6.4.2.3 fastEight](#2.6.4.2.3_fastEight)\n",
    "        * [2.6.4.2.4 fastSixes and Trams](#2.6.4.2.4_fastSixes_and_Trams)\n",
    "  * [2.7 Derive State-wide Summary Statistics For Our Market Segment](#2.7_Derive_State-wide_Summary_Statistics_For_Our_Market_Segment)\n",
    "  * [2.8 Drop Rows With No Price Data](#2.8_Drop_Rows_With_No_Price_Data)\n",
    "  * [2.9 Review distributions](#2.9_Review_distributions)\n",
    "  * [2.10 Population data](#2.10_Population_data)\n",
    "  * [2.11 Target Feature](#2.11_Target_Feature)\n",
    "    * [2.11.1 Number Of Missing Values By Row - Resort](#2.11.1_Number_Of_Missing_Values_By_Row_-_Resort)\n",
    "  * [2.12 Save data](#2.12_Save_data)\n",
    "  * [2.13 Summary](#2.13_Summary)\n"
   ]
  },
  {
   "cell_type": "markdown",
   "metadata": {},
   "source": [
    "## 2.2 Introduction<a id='2.2_Introduction'></a>"
   ]
  },
  {
   "cell_type": "markdown",
   "metadata": {},
   "source": [
    "This step focuses on collecting your data, organizing it, and making sure it's well defined. Paying attention to these tasks will pay off greatly later on. Some data cleaning can be done at this stage, but it's important not to be overzealous in your cleaning before you've explored the data to better understand it."
   ]
  },
  {
   "cell_type": "markdown",
   "metadata": {},
   "source": [
    "### 2.2.1 Recap Of Data Science Problem<a id='2.2.1_Recap_Of_Data_Science_Problem'></a>"
   ]
  },
  {
   "cell_type": "markdown",
   "metadata": {},
   "source": [
    "The purpose of this data science project is to come up with a pricing model for ski resort tickets in our market segment. Big Mountain suspects it may not be maximizing its returns, relative to its position in the market. It also does not have a strong sense of what facilities matter most to visitors, particularly which ones they're most likely to pay more for. This project aims to build a predictive model for ticket price based on a number of facilities, or properties, boasted by resorts (*at the resorts).* \n",
    "This model will be used to provide guidance for Big Mountain's pricing and future facility investment plans."
   ]
  },
  {
   "cell_type": "markdown",
   "metadata": {},
   "source": [
    "### 2.2.2 Introduction To Notebook<a id='2.2.2_Introduction_To_Notebook'></a>"
   ]
  },
  {
   "cell_type": "markdown",
   "metadata": {},
   "source": [
    "Notebooks grow organically as we explore our data. If you used paper notebooks, you could discover a mistake and cross out or revise some earlier work. Later work may give you a reason to revisit earlier work and explore it further. The great thing about Jupyter notebooks is that you can edit, add, and move cells around without needing to cross out figures or scrawl in the margin. However, this means you can lose track of your changes easily. If you worked in a regulated environment, the company may have a a policy of always dating entries and clearly crossing out any mistakes, with your initials and the date.\n",
    "\n",
    "**Best practice here is to commit your changes using a version control system such as Git.** Try to get into the habit of adding and committing your files to the Git repository you're working in after you save them. You're are working in a Git repository, right? If you make a significant change, save the notebook and commit it to Git. In fact, if you're about to make a significant change, it's a good idea to commit before as well. Then if the change is a mess, you've got the previous version to go back to.\n",
    "\n",
    "**Another best practice with notebooks is to try to keep them organized with helpful headings and comments.** Not only can a good structure, but associated headings help you keep track of what you've done and your current focus. Anyone reading your notebook will have a much easier time following the flow of work. Remember, that 'anyone' will most likely be you. Be kind to future you!\n",
    "\n",
    "In this notebook, note how we try to use well structured, helpful headings that frequently are self-explanatory, and we make a brief note after any results to highlight key takeaways. This is an immense help to anyone reading your notebook and it will greatly help you when you come to summarise your findings. **Top tip: jot down key findings in a final summary at the end of the notebook as they arise. You can tidy this up later.** This is a great way to ensure important results don't get lost in the middle of your notebooks."
   ]
  },
  {
   "cell_type": "markdown",
   "metadata": {},
   "source": [
    "In this, and subsequent notebooks, there are coding tasks marked with `#Code task n#` with code to complete. The `___` will guide you to where you need to insert code."
   ]
  },
  {
   "cell_type": "markdown",
   "metadata": {},
   "source": [
    "## 2.3 Imports<a id='2.3_Imports'></a>"
   ]
  },
  {
   "cell_type": "markdown",
   "metadata": {},
   "source": [
    "Placing your imports all together at the start of your notebook means you only need to consult one place to check your notebook's dependencies. By all means import something 'in situ' later on when you're experimenting, but if the imported dependency ends up being kept, you should subsequently move the import statement here with the rest."
   ]
  },
  {
   "cell_type": "code",
   "execution_count": 1,
   "metadata": {},
   "outputs": [],
   "source": [
    "#Code task 1#\n",
    "#Import pandas, matplotlib.pyplot, and seaborn in the correct lines below\n",
    "import pandas as pd\n",
    "import matplotlib.pyplot as plt\n",
    "import seaborn as sns\n",
    "import os\n",
    "\n",
    "from library.sb_utils import save_file\n"
   ]
  },
  {
   "cell_type": "markdown",
   "metadata": {},
   "source": [
    "## 2.4 Objectives<a id='2.4_Objectives'></a>"
   ]
  },
  {
   "cell_type": "markdown",
   "metadata": {},
   "source": [
    "There are some fundamental questions to resolve in this notebook before you move on.\n",
    "\n",
    "* Do you think you may have the data you need to tackle the desired question?\n",
    "    * Have you identified the required target value?\n",
    "    * Do you have potentially useful features?\n",
    "* Do you have any fundamental issues with the data?"
   ]
  },
  {
   "cell_type": "markdown",
   "metadata": {},
   "source": [
    "## 2.5 Load The Ski Resort Data<a id='2.5_Load_The_Ski_Resort_Data'></a>"
   ]
  },
  {
   "cell_type": "code",
   "execution_count": 2,
   "metadata": {},
   "outputs": [],
   "source": [
    "# the supplied CSV data file is the raw_data directory\n",
    "ski_data = pd.read_csv('../raw_data/ski_resort_data.csv')"
   ]
  },
  {
   "cell_type": "markdown",
   "metadata": {},
   "source": [
    "Good first steps in auditing the data are the info method and displaying the first few records with head."
   ]
  },
  {
   "cell_type": "code",
   "execution_count": 3,
   "metadata": {},
   "outputs": [
    {
     "data": {
      "text/plain": [
       "<bound method DataFrame.info of                                   Name               Region          state  \\\n",
       "0                       Alyeska Resort               Alaska         Alaska   \n",
       "1                  Eaglecrest Ski Area               Alaska         Alaska   \n",
       "2                     Hilltop Ski Area               Alaska         Alaska   \n",
       "3                     Arizona Snowbowl              Arizona        Arizona   \n",
       "4                  Sunrise Park Resort              Arizona        Arizona   \n",
       "5        Yosemite Ski & Snowboard Area  Northern California     California   \n",
       "6                        Bear Mountain        Sierra Nevada     California   \n",
       "7                          Bear Valley        Sierra Nevada     California   \n",
       "8               Boreal Mountain Resort        Sierra Nevada     California   \n",
       "9                          Dodge Ridge        Sierra Nevada     California   \n",
       "10                    Donner Ski Ranch        Sierra Nevada     California   \n",
       "11            Heavenly Mountain Resort        Sierra Nevada     California   \n",
       "12                       June Mountain        Sierra Nevada     California   \n",
       "13                            Kirkwood        Sierra Nevada     California   \n",
       "14           Mammoth Mountain Ski Area        Sierra Nevada     California   \n",
       "15                 Mt. Shasta Ski Park        Sierra Nevada     California   \n",
       "16                       Mountain High        Sierra Nevada     California   \n",
       "17                           Mt. Baldy        Sierra Nevada     California   \n",
       "18                Northstar California        Sierra Nevada     California   \n",
       "19                     Sierra-at-Tahoe        Sierra Nevada     California   \n",
       "20                      Ski China Peak        Sierra Nevada     California   \n",
       "21                         Snow Summit        Sierra Nevada     California   \n",
       "22                         Snow Valley        Sierra Nevada     California   \n",
       "23                        Soda Springs        Sierra Nevada     California   \n",
       "24                   Sugar Bowl Resort        Sierra Nevada     California   \n",
       "25                        Tahoe Donner        Sierra Nevada     California   \n",
       "26             Arapahoe Basin Ski Area             Colorado       Colorado   \n",
       "27                    Aspen / Snowmass             Colorado       Colorado   \n",
       "28                        Beaver Creek             Colorado       Colorado   \n",
       "29                        Breckenridge             Colorado       Colorado   \n",
       "..                                 ...                  ...            ...   \n",
       "300           The Summit at Snoqualmie           Washington     Washington   \n",
       "301                         White Pass           Washington     Washington   \n",
       "302               Canaan Valley Resort        West Virginia  West Virginia   \n",
       "303           Snowshoe Mountain Resort        West Virginia  West Virginia   \n",
       "304            Timberline Four Seasons        West Virginia  West Virginia   \n",
       "305             Winterplace Ski Resort        West Virginia  West Virginia   \n",
       "306               Alpine Valley Resort            Wisconsin      Wisconsin   \n",
       "307                        Bruce Mound            Wisconsin      Wisconsin   \n",
       "308                   Cascade Mountain            Wisconsin      Wisconsin   \n",
       "309                  Christie Mountain            Wisconsin      Wisconsin   \n",
       "310                 Christmas Mountain            Wisconsin      Wisconsin   \n",
       "311                        Devils Head            Wisconsin      Wisconsin   \n",
       "312                       Grand Geneva            Wisconsin      Wisconsin   \n",
       "313              Granite Peak Ski Area            Wisconsin      Wisconsin   \n",
       "314                 Little Switzerland            Wisconsin      Wisconsin   \n",
       "315                    Mount La Crosse            Wisconsin      Wisconsin   \n",
       "316                    Nordic Mountain            Wisconsin      Wisconsin   \n",
       "317                           Sunburst            Wisconsin      Wisconsin   \n",
       "318                        Trollhaugen            Wisconsin      Wisconsin   \n",
       "319                        Tyrol Basin            Wisconsin      Wisconsin   \n",
       "320                  Whitecap Mountain            Wisconsin      Wisconsin   \n",
       "321                    Wilmot Mountain            Wisconsin      Wisconsin   \n",
       "322               Grand Targhee Resort              Wyoming        Wyoming   \n",
       "323                      Hogadon Basin              Wyoming        Wyoming   \n",
       "324                       Jackson Hole              Wyoming        Wyoming   \n",
       "325               Meadowlark Ski Lodge              Wyoming        Wyoming   \n",
       "326          Sleeping Giant Ski Resort              Wyoming        Wyoming   \n",
       "327                   Snow King Resort              Wyoming        Wyoming   \n",
       "328  Snowy Range Ski & Recreation Area              Wyoming        Wyoming   \n",
       "329                White Pine Ski Area              Wyoming        Wyoming   \n",
       "\n",
       "     summit_elev  vertical_drop  base_elev  trams  fastEight  fastSixes  \\\n",
       "0           3939           2500        250      1        0.0          0   \n",
       "1           2600           1540       1200      0        0.0          0   \n",
       "2           2090            294       1796      0        0.0          0   \n",
       "3          11500           2300       9200      0        0.0          1   \n",
       "4          11100           1800       9200      0        NaN          0   \n",
       "5           7800            600       7200      0        0.0          0   \n",
       "6           8805           1665       7140      0        0.0          0   \n",
       "7           8500           1900       6600      0        0.0          1   \n",
       "8           7700            500       7200      0        0.0          0   \n",
       "9           8200           1600       6600      0        0.0          0   \n",
       "10          8012            750       7031      0        0.0          0   \n",
       "11         10067           3500       7170      2        0.0          2   \n",
       "12         10090           2590       7545      0        NaN          0   \n",
       "13          9800           2000       7800      0        0.0          0   \n",
       "14         11053           3100       7953      3        0.0          2   \n",
       "15          6890           1435       5500      0        NaN          0   \n",
       "16          8200           1600       6600      0        NaN          0   \n",
       "17          8600           2100       6500      0        NaN          0   \n",
       "18          8610           2280       6330      2        0.0          1   \n",
       "19          8852           2212       6640      0        NaN          0   \n",
       "20          8709           1679       7030      0        0.0          0   \n",
       "21          8200           1200       7000      0        0.0          0   \n",
       "22          7841           1041       6800      0        NaN          0   \n",
       "23          7352            652       6700      0        NaN          0   \n",
       "24          8383           1500       6883      1        0.0          0   \n",
       "25          7350            600       6750      0        0.0          0   \n",
       "26         13050           2530      10780      0        0.0          0   \n",
       "27         12510           4406       8104      3        0.0          1   \n",
       "28         11440           3340       8100      2        0.0          0   \n",
       "29         12998           3398       9600      1        0.0          5   \n",
       "..           ...            ...        ...    ...        ...        ...   \n",
       "300         3865           1025       2840      0        NaN          0   \n",
       "301         6550           2050       4500      0        NaN          0   \n",
       "302         4280            850       3430      0        NaN          0   \n",
       "303         4848           1500       3348      0        NaN          0   \n",
       "304         4265           1000       3268      0        NaN          0   \n",
       "305         3600            603       2997      0        NaN          0   \n",
       "306         1040            388        820      0        NaN          0   \n",
       "307         1375            375       1000      0        0.0          0   \n",
       "308         1280            460        820      0        NaN          0   \n",
       "309         1650            350       1300      0        NaN          0   \n",
       "310         1250            250       1000      0        NaN          0   \n",
       "311          995            500        495      0        NaN          0   \n",
       "312         1086            211        875      0        NaN          0   \n",
       "313         1942            700       1242      0        NaN          1   \n",
       "314         1269            200       1069      0        0.0          0   \n",
       "315         1110            516        594      0        NaN          0   \n",
       "316         1137            265        872      0        NaN          0   \n",
       "317         1100            214        866      0        0.0          0   \n",
       "318         1200            260        920      0        0.0          0   \n",
       "319         1160            300        860      0        0.0          0   \n",
       "320         1750            400       1295      0        NaN          0   \n",
       "321         1030            230        800      0        NaN          0   \n",
       "322         9920           2270       7851      0        0.0          0   \n",
       "323         8000            640       7400      0        NaN          0   \n",
       "324        10450           4139       6311      3        0.0          0   \n",
       "325         9500           1000       8500      0        NaN          0   \n",
       "326         7428            810       6619      0        0.0          0   \n",
       "327         7808           1571       6237      0        NaN          0   \n",
       "328         9663            990       8798      0        0.0          0   \n",
       "329         9500           1100       8400      0        NaN          0   \n",
       "\n",
       "     fastQuads  ...  LongestRun_mi  SkiableTerrain_ac  Snow Making_ac  \\\n",
       "0            2  ...            1.0             1610.0           113.0   \n",
       "1            0  ...            2.0              640.0            60.0   \n",
       "2            0  ...            1.0               30.0            30.0   \n",
       "3            0  ...            2.0              777.0           104.0   \n",
       "4            1  ...            1.2              800.0            80.0   \n",
       "5            0  ...            0.4               88.0             NaN   \n",
       "6            2  ...            1.5              198.0           198.0   \n",
       "7            1  ...            1.2             1680.0           100.0   \n",
       "8            1  ...            1.0              380.0           200.0   \n",
       "9            0  ...            2.0              862.0             NaN   \n",
       "10           0  ...            1.5              505.0            60.0   \n",
       "11           7  ...            5.5             4800.0          3379.0   \n",
       "12           2  ...            2.0             1500.0             NaN   \n",
       "13           2  ...            2.5             2300.0           200.0   \n",
       "14           9  ...            3.0             3500.0           700.0   \n",
       "15           0  ...            1.1              425.0           225.0   \n",
       "16           2  ...            1.6              290.0           275.0   \n",
       "17           0  ...            2.5              400.0            80.0   \n",
       "18           7  ...            1.4             3170.0          1500.0   \n",
       "19           3  ...            2.5             2000.0           200.0   \n",
       "20           0  ...            2.2             1400.0           150.0   \n",
       "21           2  ...            1.2              240.0           240.0   \n",
       "22           0  ...            1.2              240.0           188.0   \n",
       "23           0  ...            0.4              200.0            20.0   \n",
       "24           5  ...            3.0             1650.0           375.0   \n",
       "25           0  ...            1.0              120.0             NaN   \n",
       "26           1  ...            1.5             1428.0           125.0   \n",
       "27          15  ...            5.3             5517.0           658.0   \n",
       "28          11  ...            2.8             1832.0           650.0   \n",
       "29           6  ...            3.5             2908.0           600.0   \n",
       "..         ...  ...            ...                ...             ...   \n",
       "300          3  ...            0.8             1994.0             5.0   \n",
       "301          2  ...            2.5             1402.0            30.0   \n",
       "302          0  ...            1.2               95.0            75.0   \n",
       "303          3  ...            1.5              257.0           257.0   \n",
       "304          0  ...            2.0              100.0           100.0   \n",
       "305          0  ...            1.2               90.0            90.0   \n",
       "306          3  ...            0.2               90.0            90.0   \n",
       "307          0  ...            0.5               40.0            30.0   \n",
       "308          2  ...            1.1              175.0           175.0   \n",
       "309          0  ...            0.8               45.0            41.0   \n",
       "310          0  ...            0.4               40.0            40.0   \n",
       "311          0  ...            1.0              260.0           260.0   \n",
       "312          0  ...            0.2               30.0            30.0   \n",
       "313          2  ...            0.6              220.0           160.0   \n",
       "314          0  ...            1.0               50.0            50.0   \n",
       "315          0  ...            0.4              100.0           100.0   \n",
       "316          0  ...            1.0               60.0            60.0   \n",
       "317          0  ...            0.5               37.0            37.0   \n",
       "318          0  ...            0.5               86.0            86.0   \n",
       "319          0  ...            0.5               32.0            32.0   \n",
       "320          0  ...            1.0              400.0           300.0   \n",
       "321          0  ...            0.5              135.0           135.0   \n",
       "322          2  ...            2.7             2602.0             NaN   \n",
       "323          0  ...            0.6               92.0            32.0   \n",
       "324          4  ...            4.5             2500.0           195.0   \n",
       "325          0  ...            1.5              300.0             NaN   \n",
       "326          0  ...            1.0              184.0            18.0   \n",
       "327          0  ...            1.0              400.0           250.0   \n",
       "328          0  ...            0.7               75.0            30.0   \n",
       "329          0  ...            0.4              370.0             NaN   \n",
       "\n",
       "     daysOpenLastYear  yearsOpen  averageSnowfall  AdultWeekday  AdultWeekend  \\\n",
       "0               150.0       60.0            669.0          65.0          85.0   \n",
       "1                45.0       44.0            350.0          47.0          53.0   \n",
       "2               150.0       36.0             69.0          30.0          34.0   \n",
       "3               122.0       81.0            260.0          89.0          89.0   \n",
       "4               115.0       49.0            250.0          74.0          78.0   \n",
       "5               110.0       84.0            300.0          47.0          47.0   \n",
       "6               122.0       76.0            100.0           NaN           NaN   \n",
       "7               165.0       52.0            359.0           NaN           NaN   \n",
       "8               150.0       54.0            400.0          49.0           NaN   \n",
       "9                 NaN       69.0            350.0          78.0          78.0   \n",
       "10              163.0       82.0            400.0          75.0          75.0   \n",
       "11              155.0       64.0            360.0           NaN           NaN   \n",
       "12                NaN       58.0            250.0           NaN           NaN   \n",
       "13              200.0       47.0            354.0           NaN           NaN   \n",
       "14              243.0       66.0            400.0         149.0         159.0   \n",
       "15              140.0       34.0            300.0          49.0          59.0   \n",
       "16              118.0       95.0            108.0          84.0          84.0   \n",
       "17              175.0       67.0            178.0          69.0          69.0   \n",
       "18              135.0       47.0            350.0           NaN           NaN   \n",
       "19              160.0       73.0            460.0          99.0           NaN   \n",
       "20              140.0       62.0            300.0          83.0          83.0   \n",
       "21                NaN       67.0            100.0           NaN           NaN   \n",
       "22              111.0       82.0            160.0          69.0          79.0   \n",
       "23              150.0       83.0            400.0          50.0          50.0   \n",
       "24              151.0       80.0            500.0         125.0         125.0   \n",
       "25              150.0       48.0            400.0          69.0          69.0   \n",
       "26              230.0       73.0            350.0          85.0          85.0   \n",
       "27              138.0       72.0            300.0         179.0         179.0   \n",
       "28              145.0       39.0            323.0           NaN           NaN   \n",
       "29              182.0       58.0            300.0           NaN           NaN   \n",
       "..                ...        ...              ...           ...           ...   \n",
       "300             120.0       82.0            428.0          85.0          95.0   \n",
       "301             148.0       67.0            400.0          69.0          69.0   \n",
       "302               NaN       48.0            160.0          52.0          68.0   \n",
       "303             125.0       46.0            180.0          70.0          87.0   \n",
       "304              97.0       37.0            150.0          72.0          92.0   \n",
       "305             120.0       36.0            100.0          56.0          72.0   \n",
       "306             100.0       55.0             80.0          56.0          65.0   \n",
       "307              42.0       71.0             42.0          33.0          25.0   \n",
       "308             120.0       57.0             56.0          59.0          64.0   \n",
       "309              92.0       43.0             48.0          28.0          38.0   \n",
       "310              75.0       50.0             20.0           NaN           NaN   \n",
       "311             110.0       48.0             45.0          45.0          65.0   \n",
       "312              90.0       25.0             25.0          28.0          49.0   \n",
       "313             136.0       82.0             75.0          92.0          92.0   \n",
       "314               NaN        NaN              NaN          33.0          41.0   \n",
       "315             115.0       60.0             40.0          56.0          56.0   \n",
       "316              68.0       43.0             80.0           NaN          47.0   \n",
       "317              99.0       59.0             50.0          33.0          44.0   \n",
       "318             130.0       69.0             50.0          54.0          54.0   \n",
       "319             112.0       61.0             41.0          17.0          48.0   \n",
       "320             105.0       57.0            200.0          60.0          60.0   \n",
       "321             125.0       81.0             70.0          56.0          66.0   \n",
       "322             152.0       50.0            500.0          90.0          90.0   \n",
       "323             121.0       61.0             80.0          48.0          48.0   \n",
       "324             130.0       54.0            459.0           NaN           NaN   \n",
       "325               NaN        9.0              NaN           NaN           NaN   \n",
       "326              61.0       81.0            310.0          42.0          42.0   \n",
       "327             121.0       80.0            300.0          59.0          59.0   \n",
       "328             131.0       59.0            250.0          49.0          49.0   \n",
       "329               NaN       81.0            150.0           NaN          49.0   \n",
       "\n",
       "     projectedDaysOpen  NightSkiing_ac  \n",
       "0                150.0           550.0  \n",
       "1                 90.0             NaN  \n",
       "2                152.0            30.0  \n",
       "3                122.0             NaN  \n",
       "4                104.0            80.0  \n",
       "5                107.0             NaN  \n",
       "6                130.0             NaN  \n",
       "7                151.0             NaN  \n",
       "8                150.0           200.0  \n",
       "9                140.0             NaN  \n",
       "10               170.0             NaN  \n",
       "11               157.0             NaN  \n",
       "12               128.0             NaN  \n",
       "13               167.0             NaN  \n",
       "14                 NaN             NaN  \n",
       "15               130.0             NaN  \n",
       "16               150.0            73.0  \n",
       "17               200.0             NaN  \n",
       "18               150.0             NaN  \n",
       "19               144.0             NaN  \n",
       "20               144.0             NaN  \n",
       "21               130.0           150.0  \n",
       "22               143.0           164.0  \n",
       "23               144.0             NaN  \n",
       "24               150.0             NaN  \n",
       "25               144.0             NaN  \n",
       "26               233.0             NaN  \n",
       "27               138.0             NaN  \n",
       "28               138.0             NaN  \n",
       "29               163.0             NaN  \n",
       "..                 ...             ...  \n",
       "300              140.0           541.0  \n",
       "301              144.0            90.0  \n",
       "302               93.0             NaN  \n",
       "303              138.0            86.0  \n",
       "304              115.0            27.0  \n",
       "305              120.0            74.0  \n",
       "306              120.0            90.0  \n",
       "307               42.0            30.0  \n",
       "308              120.0             NaN  \n",
       "309              120.0            35.0  \n",
       "310               70.0            40.0  \n",
       "311              135.0           200.0  \n",
       "312               93.0            30.0  \n",
       "313              135.0           200.0  \n",
       "314                NaN            50.0  \n",
       "315              100.0            90.0  \n",
       "316               90.0            60.0  \n",
       "317              115.0            37.0  \n",
       "318              120.0            86.0  \n",
       "319              103.0            32.0  \n",
       "320              118.0             NaN  \n",
       "321              139.0           135.0  \n",
       "322              152.0             NaN  \n",
       "323               95.0             NaN  \n",
       "324              133.0             NaN  \n",
       "325                NaN             NaN  \n",
       "326               77.0             NaN  \n",
       "327              123.0           110.0  \n",
       "328                NaN             NaN  \n",
       "329                NaN             NaN  \n",
       "\n",
       "[330 rows x 27 columns]>"
      ]
     },
     "execution_count": 3,
     "metadata": {},
     "output_type": "execute_result"
    }
   ],
   "source": [
    "#Code task 2#\n",
    "#Call the info method on ski_data to see a summary of the data\n",
    "ski_data.info"
   ]
  },
  {
   "cell_type": "markdown",
   "metadata": {},
   "source": [
    "`AdultWeekday` is the price of an adult weekday ticket. `AdultWeekend` is the price of an adult weekend ticket. The other columns are potential features."
   ]
  },
  {
   "cell_type": "markdown",
   "metadata": {},
   "source": [
    "This immediately raises the question of what quantity will you want to model? You know you want to model the ticket price, but you realise there are two kinds of ticket price!"
   ]
  },
  {
   "cell_type": "code",
   "execution_count": 4,
   "metadata": {
    "scrolled": true
   },
   "outputs": [
    {
     "data": {
      "text/html": [
       "<div>\n",
       "<style scoped>\n",
       "    .dataframe tbody tr th:only-of-type {\n",
       "        vertical-align: middle;\n",
       "    }\n",
       "\n",
       "    .dataframe tbody tr th {\n",
       "        vertical-align: top;\n",
       "    }\n",
       "\n",
       "    .dataframe thead th {\n",
       "        text-align: right;\n",
       "    }\n",
       "</style>\n",
       "<table border=\"1\" class=\"dataframe\">\n",
       "  <thead>\n",
       "    <tr style=\"text-align: right;\">\n",
       "      <th></th>\n",
       "      <th>Name</th>\n",
       "      <th>Region</th>\n",
       "      <th>state</th>\n",
       "      <th>summit_elev</th>\n",
       "      <th>vertical_drop</th>\n",
       "      <th>base_elev</th>\n",
       "      <th>trams</th>\n",
       "      <th>fastEight</th>\n",
       "      <th>fastSixes</th>\n",
       "      <th>fastQuads</th>\n",
       "      <th>...</th>\n",
       "      <th>LongestRun_mi</th>\n",
       "      <th>SkiableTerrain_ac</th>\n",
       "      <th>Snow Making_ac</th>\n",
       "      <th>daysOpenLastYear</th>\n",
       "      <th>yearsOpen</th>\n",
       "      <th>averageSnowfall</th>\n",
       "      <th>AdultWeekday</th>\n",
       "      <th>AdultWeekend</th>\n",
       "      <th>projectedDaysOpen</th>\n",
       "      <th>NightSkiing_ac</th>\n",
       "    </tr>\n",
       "  </thead>\n",
       "  <tbody>\n",
       "    <tr>\n",
       "      <th>0</th>\n",
       "      <td>Alyeska Resort</td>\n",
       "      <td>Alaska</td>\n",
       "      <td>Alaska</td>\n",
       "      <td>3939</td>\n",
       "      <td>2500</td>\n",
       "      <td>250</td>\n",
       "      <td>1</td>\n",
       "      <td>0.0</td>\n",
       "      <td>0</td>\n",
       "      <td>2</td>\n",
       "      <td>...</td>\n",
       "      <td>1.0</td>\n",
       "      <td>1610.0</td>\n",
       "      <td>113.0</td>\n",
       "      <td>150.0</td>\n",
       "      <td>60.0</td>\n",
       "      <td>669.0</td>\n",
       "      <td>65.0</td>\n",
       "      <td>85.0</td>\n",
       "      <td>150.0</td>\n",
       "      <td>550.0</td>\n",
       "    </tr>\n",
       "    <tr>\n",
       "      <th>1</th>\n",
       "      <td>Eaglecrest Ski Area</td>\n",
       "      <td>Alaska</td>\n",
       "      <td>Alaska</td>\n",
       "      <td>2600</td>\n",
       "      <td>1540</td>\n",
       "      <td>1200</td>\n",
       "      <td>0</td>\n",
       "      <td>0.0</td>\n",
       "      <td>0</td>\n",
       "      <td>0</td>\n",
       "      <td>...</td>\n",
       "      <td>2.0</td>\n",
       "      <td>640.0</td>\n",
       "      <td>60.0</td>\n",
       "      <td>45.0</td>\n",
       "      <td>44.0</td>\n",
       "      <td>350.0</td>\n",
       "      <td>47.0</td>\n",
       "      <td>53.0</td>\n",
       "      <td>90.0</td>\n",
       "      <td>NaN</td>\n",
       "    </tr>\n",
       "    <tr>\n",
       "      <th>2</th>\n",
       "      <td>Hilltop Ski Area</td>\n",
       "      <td>Alaska</td>\n",
       "      <td>Alaska</td>\n",
       "      <td>2090</td>\n",
       "      <td>294</td>\n",
       "      <td>1796</td>\n",
       "      <td>0</td>\n",
       "      <td>0.0</td>\n",
       "      <td>0</td>\n",
       "      <td>0</td>\n",
       "      <td>...</td>\n",
       "      <td>1.0</td>\n",
       "      <td>30.0</td>\n",
       "      <td>30.0</td>\n",
       "      <td>150.0</td>\n",
       "      <td>36.0</td>\n",
       "      <td>69.0</td>\n",
       "      <td>30.0</td>\n",
       "      <td>34.0</td>\n",
       "      <td>152.0</td>\n",
       "      <td>30.0</td>\n",
       "    </tr>\n",
       "    <tr>\n",
       "      <th>3</th>\n",
       "      <td>Arizona Snowbowl</td>\n",
       "      <td>Arizona</td>\n",
       "      <td>Arizona</td>\n",
       "      <td>11500</td>\n",
       "      <td>2300</td>\n",
       "      <td>9200</td>\n",
       "      <td>0</td>\n",
       "      <td>0.0</td>\n",
       "      <td>1</td>\n",
       "      <td>0</td>\n",
       "      <td>...</td>\n",
       "      <td>2.0</td>\n",
       "      <td>777.0</td>\n",
       "      <td>104.0</td>\n",
       "      <td>122.0</td>\n",
       "      <td>81.0</td>\n",
       "      <td>260.0</td>\n",
       "      <td>89.0</td>\n",
       "      <td>89.0</td>\n",
       "      <td>122.0</td>\n",
       "      <td>NaN</td>\n",
       "    </tr>\n",
       "    <tr>\n",
       "      <th>4</th>\n",
       "      <td>Sunrise Park Resort</td>\n",
       "      <td>Arizona</td>\n",
       "      <td>Arizona</td>\n",
       "      <td>11100</td>\n",
       "      <td>1800</td>\n",
       "      <td>9200</td>\n",
       "      <td>0</td>\n",
       "      <td>NaN</td>\n",
       "      <td>0</td>\n",
       "      <td>1</td>\n",
       "      <td>...</td>\n",
       "      <td>1.2</td>\n",
       "      <td>800.0</td>\n",
       "      <td>80.0</td>\n",
       "      <td>115.0</td>\n",
       "      <td>49.0</td>\n",
       "      <td>250.0</td>\n",
       "      <td>74.0</td>\n",
       "      <td>78.0</td>\n",
       "      <td>104.0</td>\n",
       "      <td>80.0</td>\n",
       "    </tr>\n",
       "  </tbody>\n",
       "</table>\n",
       "<p>5 rows × 27 columns</p>\n",
       "</div>"
      ],
      "text/plain": [
       "                  Name   Region    state  summit_elev  vertical_drop  \\\n",
       "0       Alyeska Resort   Alaska   Alaska         3939           2500   \n",
       "1  Eaglecrest Ski Area   Alaska   Alaska         2600           1540   \n",
       "2     Hilltop Ski Area   Alaska   Alaska         2090            294   \n",
       "3     Arizona Snowbowl  Arizona  Arizona        11500           2300   \n",
       "4  Sunrise Park Resort  Arizona  Arizona        11100           1800   \n",
       "\n",
       "   base_elev  trams  fastEight  fastSixes  fastQuads  ...  LongestRun_mi  \\\n",
       "0        250      1        0.0          0          2  ...            1.0   \n",
       "1       1200      0        0.0          0          0  ...            2.0   \n",
       "2       1796      0        0.0          0          0  ...            1.0   \n",
       "3       9200      0        0.0          1          0  ...            2.0   \n",
       "4       9200      0        NaN          0          1  ...            1.2   \n",
       "\n",
       "   SkiableTerrain_ac  Snow Making_ac  daysOpenLastYear  yearsOpen  \\\n",
       "0             1610.0           113.0             150.0       60.0   \n",
       "1              640.0            60.0              45.0       44.0   \n",
       "2               30.0            30.0             150.0       36.0   \n",
       "3              777.0           104.0             122.0       81.0   \n",
       "4              800.0            80.0             115.0       49.0   \n",
       "\n",
       "   averageSnowfall  AdultWeekday  AdultWeekend  projectedDaysOpen  \\\n",
       "0            669.0          65.0          85.0              150.0   \n",
       "1            350.0          47.0          53.0               90.0   \n",
       "2             69.0          30.0          34.0              152.0   \n",
       "3            260.0          89.0          89.0              122.0   \n",
       "4            250.0          74.0          78.0              104.0   \n",
       "\n",
       "   NightSkiing_ac  \n",
       "0           550.0  \n",
       "1             NaN  \n",
       "2            30.0  \n",
       "3             NaN  \n",
       "4            80.0  \n",
       "\n",
       "[5 rows x 27 columns]"
      ]
     },
     "execution_count": 4,
     "metadata": {},
     "output_type": "execute_result"
    }
   ],
   "source": [
    "#Code task 3#\n",
    "#Call the head method on ski_data to print the first several rows of the data\n",
    "ski_data.head()"
   ]
  },
  {
   "cell_type": "markdown",
   "metadata": {},
   "source": [
    "The output above suggests you've made a good start getting the ski resort data organized. You have plausible column headings. You can already see you have a missing value in the `fastEight` column"
   ]
  },
  {
   "cell_type": "markdown",
   "metadata": {},
   "source": [
    "## 2.6 Explore The Data<a id='2.6_Explore_The_Data'></a>"
   ]
  },
  {
   "cell_type": "markdown",
   "metadata": {},
   "source": [
    "### 2.6.1 Find Your Resort Of Interest<a id='2.6.1_Find_Your_Resort_Of_Interest'></a>"
   ]
  },
  {
   "cell_type": "markdown",
   "metadata": {},
   "source": [
    "Your resort of interest is called Big Mountain Resort. Check it's in the data:"
   ]
  },
  {
   "cell_type": "code",
   "execution_count": 5,
   "metadata": {},
   "outputs": [
    {
     "data": {
      "text/html": [
       "<div>\n",
       "<style scoped>\n",
       "    .dataframe tbody tr th:only-of-type {\n",
       "        vertical-align: middle;\n",
       "    }\n",
       "\n",
       "    .dataframe tbody tr th {\n",
       "        vertical-align: top;\n",
       "    }\n",
       "\n",
       "    .dataframe thead th {\n",
       "        text-align: right;\n",
       "    }\n",
       "</style>\n",
       "<table border=\"1\" class=\"dataframe\">\n",
       "  <thead>\n",
       "    <tr style=\"text-align: right;\">\n",
       "      <th></th>\n",
       "      <th>151</th>\n",
       "    </tr>\n",
       "  </thead>\n",
       "  <tbody>\n",
       "    <tr>\n",
       "      <th>Name</th>\n",
       "      <td>Big Mountain Resort</td>\n",
       "    </tr>\n",
       "    <tr>\n",
       "      <th>Region</th>\n",
       "      <td>Montana</td>\n",
       "    </tr>\n",
       "    <tr>\n",
       "      <th>state</th>\n",
       "      <td>Montana</td>\n",
       "    </tr>\n",
       "    <tr>\n",
       "      <th>summit_elev</th>\n",
       "      <td>6817</td>\n",
       "    </tr>\n",
       "    <tr>\n",
       "      <th>vertical_drop</th>\n",
       "      <td>2353</td>\n",
       "    </tr>\n",
       "    <tr>\n",
       "      <th>base_elev</th>\n",
       "      <td>4464</td>\n",
       "    </tr>\n",
       "    <tr>\n",
       "      <th>trams</th>\n",
       "      <td>0</td>\n",
       "    </tr>\n",
       "    <tr>\n",
       "      <th>fastEight</th>\n",
       "      <td>0</td>\n",
       "    </tr>\n",
       "    <tr>\n",
       "      <th>fastSixes</th>\n",
       "      <td>0</td>\n",
       "    </tr>\n",
       "    <tr>\n",
       "      <th>fastQuads</th>\n",
       "      <td>3</td>\n",
       "    </tr>\n",
       "    <tr>\n",
       "      <th>quad</th>\n",
       "      <td>2</td>\n",
       "    </tr>\n",
       "    <tr>\n",
       "      <th>triple</th>\n",
       "      <td>6</td>\n",
       "    </tr>\n",
       "    <tr>\n",
       "      <th>double</th>\n",
       "      <td>0</td>\n",
       "    </tr>\n",
       "    <tr>\n",
       "      <th>surface</th>\n",
       "      <td>3</td>\n",
       "    </tr>\n",
       "    <tr>\n",
       "      <th>total_chairs</th>\n",
       "      <td>14</td>\n",
       "    </tr>\n",
       "    <tr>\n",
       "      <th>Runs</th>\n",
       "      <td>105</td>\n",
       "    </tr>\n",
       "    <tr>\n",
       "      <th>TerrainParks</th>\n",
       "      <td>4</td>\n",
       "    </tr>\n",
       "    <tr>\n",
       "      <th>LongestRun_mi</th>\n",
       "      <td>3.3</td>\n",
       "    </tr>\n",
       "    <tr>\n",
       "      <th>SkiableTerrain_ac</th>\n",
       "      <td>3000</td>\n",
       "    </tr>\n",
       "    <tr>\n",
       "      <th>Snow Making_ac</th>\n",
       "      <td>600</td>\n",
       "    </tr>\n",
       "    <tr>\n",
       "      <th>daysOpenLastYear</th>\n",
       "      <td>123</td>\n",
       "    </tr>\n",
       "    <tr>\n",
       "      <th>yearsOpen</th>\n",
       "      <td>72</td>\n",
       "    </tr>\n",
       "    <tr>\n",
       "      <th>averageSnowfall</th>\n",
       "      <td>333</td>\n",
       "    </tr>\n",
       "    <tr>\n",
       "      <th>AdultWeekday</th>\n",
       "      <td>81</td>\n",
       "    </tr>\n",
       "    <tr>\n",
       "      <th>AdultWeekend</th>\n",
       "      <td>81</td>\n",
       "    </tr>\n",
       "    <tr>\n",
       "      <th>projectedDaysOpen</th>\n",
       "      <td>123</td>\n",
       "    </tr>\n",
       "    <tr>\n",
       "      <th>NightSkiing_ac</th>\n",
       "      <td>600</td>\n",
       "    </tr>\n",
       "  </tbody>\n",
       "</table>\n",
       "</div>"
      ],
      "text/plain": [
       "                                   151\n",
       "Name               Big Mountain Resort\n",
       "Region                         Montana\n",
       "state                          Montana\n",
       "summit_elev                       6817\n",
       "vertical_drop                     2353\n",
       "base_elev                         4464\n",
       "trams                                0\n",
       "fastEight                            0\n",
       "fastSixes                            0\n",
       "fastQuads                            3\n",
       "quad                                 2\n",
       "triple                               6\n",
       "double                               0\n",
       "surface                              3\n",
       "total_chairs                        14\n",
       "Runs                               105\n",
       "TerrainParks                         4\n",
       "LongestRun_mi                      3.3\n",
       "SkiableTerrain_ac                 3000\n",
       "Snow Making_ac                     600\n",
       "daysOpenLastYear                   123\n",
       "yearsOpen                           72\n",
       "averageSnowfall                    333\n",
       "AdultWeekday                        81\n",
       "AdultWeekend                        81\n",
       "projectedDaysOpen                  123\n",
       "NightSkiing_ac                     600"
      ]
     },
     "execution_count": 5,
     "metadata": {},
     "output_type": "execute_result"
    }
   ],
   "source": [
    "#Code task 4#\n",
    "#Filter the ski_data dataframe to display just the row for our resort with the name 'Big Mountain Resort'\n",
    "#Hint: you will find that the transpose of the row will give a nicer output. DataFrame's do have a\n",
    "#transpose method, but you can access this conveniently with the `T` property.\n",
    "#Filter out the 'big mountain resort', and transpose the dataframe\n",
    "ski_data[ski_data.Name == 'Big Mountain Resort'].T"
   ]
  },
  {
   "cell_type": "markdown",
   "metadata": {},
   "source": [
    "It's good that your resort doesn't appear to have any missing values."
   ]
  },
  {
   "cell_type": "markdown",
   "metadata": {},
   "source": [
    "### 2.6.2 Number Of Missing Values By Column<a id='2.6.2_Number_Of_Missing_Values_By_Column'></a>"
   ]
  },
  {
   "cell_type": "markdown",
   "metadata": {},
   "source": [
    "Count the number of missing values in each column and sort them."
   ]
  },
  {
   "cell_type": "code",
   "execution_count": 18,
   "metadata": {},
   "outputs": [
    {
     "data": {
      "text/html": [
       "<div>\n",
       "<style scoped>\n",
       "    .dataframe tbody tr th:only-of-type {\n",
       "        vertical-align: middle;\n",
       "    }\n",
       "\n",
       "    .dataframe tbody tr th {\n",
       "        vertical-align: top;\n",
       "    }\n",
       "\n",
       "    .dataframe thead th {\n",
       "        text-align: right;\n",
       "    }\n",
       "</style>\n",
       "<table border=\"1\" class=\"dataframe\">\n",
       "  <thead>\n",
       "    <tr style=\"text-align: right;\">\n",
       "      <th></th>\n",
       "      <th>count</th>\n",
       "      <th>%</th>\n",
       "    </tr>\n",
       "  </thead>\n",
       "  <tbody>\n",
       "    <tr>\n",
       "      <th>fastEight</th>\n",
       "      <td>166</td>\n",
       "      <td>50.303030</td>\n",
       "    </tr>\n",
       "    <tr>\n",
       "      <th>NightSkiing_ac</th>\n",
       "      <td>143</td>\n",
       "      <td>43.333333</td>\n",
       "    </tr>\n",
       "    <tr>\n",
       "      <th>AdultWeekday</th>\n",
       "      <td>54</td>\n",
       "      <td>16.363636</td>\n",
       "    </tr>\n",
       "    <tr>\n",
       "      <th>AdultWeekend</th>\n",
       "      <td>51</td>\n",
       "      <td>15.454545</td>\n",
       "    </tr>\n",
       "    <tr>\n",
       "      <th>daysOpenLastYear</th>\n",
       "      <td>51</td>\n",
       "      <td>15.454545</td>\n",
       "    </tr>\n",
       "    <tr>\n",
       "      <th>TerrainParks</th>\n",
       "      <td>51</td>\n",
       "      <td>15.454545</td>\n",
       "    </tr>\n",
       "    <tr>\n",
       "      <th>projectedDaysOpen</th>\n",
       "      <td>47</td>\n",
       "      <td>14.242424</td>\n",
       "    </tr>\n",
       "    <tr>\n",
       "      <th>Snow Making_ac</th>\n",
       "      <td>46</td>\n",
       "      <td>13.939394</td>\n",
       "    </tr>\n",
       "    <tr>\n",
       "      <th>averageSnowfall</th>\n",
       "      <td>14</td>\n",
       "      <td>4.242424</td>\n",
       "    </tr>\n",
       "    <tr>\n",
       "      <th>LongestRun_mi</th>\n",
       "      <td>5</td>\n",
       "      <td>1.515152</td>\n",
       "    </tr>\n",
       "    <tr>\n",
       "      <th>Runs</th>\n",
       "      <td>4</td>\n",
       "      <td>1.212121</td>\n",
       "    </tr>\n",
       "    <tr>\n",
       "      <th>SkiableTerrain_ac</th>\n",
       "      <td>3</td>\n",
       "      <td>0.909091</td>\n",
       "    </tr>\n",
       "    <tr>\n",
       "      <th>yearsOpen</th>\n",
       "      <td>1</td>\n",
       "      <td>0.303030</td>\n",
       "    </tr>\n",
       "    <tr>\n",
       "      <th>total_chairs</th>\n",
       "      <td>0</td>\n",
       "      <td>0.000000</td>\n",
       "    </tr>\n",
       "    <tr>\n",
       "      <th>Name</th>\n",
       "      <td>0</td>\n",
       "      <td>0.000000</td>\n",
       "    </tr>\n",
       "    <tr>\n",
       "      <th>Region</th>\n",
       "      <td>0</td>\n",
       "      <td>0.000000</td>\n",
       "    </tr>\n",
       "    <tr>\n",
       "      <th>double</th>\n",
       "      <td>0</td>\n",
       "      <td>0.000000</td>\n",
       "    </tr>\n",
       "    <tr>\n",
       "      <th>triple</th>\n",
       "      <td>0</td>\n",
       "      <td>0.000000</td>\n",
       "    </tr>\n",
       "    <tr>\n",
       "      <th>quad</th>\n",
       "      <td>0</td>\n",
       "      <td>0.000000</td>\n",
       "    </tr>\n",
       "    <tr>\n",
       "      <th>fastQuads</th>\n",
       "      <td>0</td>\n",
       "      <td>0.000000</td>\n",
       "    </tr>\n",
       "    <tr>\n",
       "      <th>fastSixes</th>\n",
       "      <td>0</td>\n",
       "      <td>0.000000</td>\n",
       "    </tr>\n",
       "    <tr>\n",
       "      <th>trams</th>\n",
       "      <td>0</td>\n",
       "      <td>0.000000</td>\n",
       "    </tr>\n",
       "    <tr>\n",
       "      <th>base_elev</th>\n",
       "      <td>0</td>\n",
       "      <td>0.000000</td>\n",
       "    </tr>\n",
       "    <tr>\n",
       "      <th>vertical_drop</th>\n",
       "      <td>0</td>\n",
       "      <td>0.000000</td>\n",
       "    </tr>\n",
       "    <tr>\n",
       "      <th>summit_elev</th>\n",
       "      <td>0</td>\n",
       "      <td>0.000000</td>\n",
       "    </tr>\n",
       "    <tr>\n",
       "      <th>state</th>\n",
       "      <td>0</td>\n",
       "      <td>0.000000</td>\n",
       "    </tr>\n",
       "    <tr>\n",
       "      <th>surface</th>\n",
       "      <td>0</td>\n",
       "      <td>0.000000</td>\n",
       "    </tr>\n",
       "  </tbody>\n",
       "</table>\n",
       "</div>"
      ],
      "text/plain": [
       "                   count          %\n",
       "fastEight            166  50.303030\n",
       "NightSkiing_ac       143  43.333333\n",
       "AdultWeekday          54  16.363636\n",
       "AdultWeekend          51  15.454545\n",
       "daysOpenLastYear      51  15.454545\n",
       "TerrainParks          51  15.454545\n",
       "projectedDaysOpen     47  14.242424\n",
       "Snow Making_ac        46  13.939394\n",
       "averageSnowfall       14   4.242424\n",
       "LongestRun_mi          5   1.515152\n",
       "Runs                   4   1.212121\n",
       "SkiableTerrain_ac      3   0.909091\n",
       "yearsOpen              1   0.303030\n",
       "total_chairs           0   0.000000\n",
       "Name                   0   0.000000\n",
       "Region                 0   0.000000\n",
       "double                 0   0.000000\n",
       "triple                 0   0.000000\n",
       "quad                   0   0.000000\n",
       "fastQuads              0   0.000000\n",
       "fastSixes              0   0.000000\n",
       "trams                  0   0.000000\n",
       "base_elev              0   0.000000\n",
       "vertical_drop          0   0.000000\n",
       "summit_elev            0   0.000000\n",
       "state                  0   0.000000\n",
       "surface                0   0.000000"
      ]
     },
     "execution_count": 18,
     "metadata": {},
     "output_type": "execute_result"
    }
   ],
   "source": [
    "#Code task 5#\n",
    "#Count (using `.sum()`) the number of missing values (`.isnull()`) in each column of \n",
    "#ski_data as well as the percentages (using `.mean()` instead of `.sum()`). #WHY .mean() presenting percentages??\n",
    "#Order them (increasing or decreasing) using sort_values\n",
    "#Call `pd.concat` to present these in a single table (DataFrame) with the helpful column names 'count' and '%'\n",
    "#missing = pd.concat([ski_data.isnull().sum().sort_values(ascending = False), 100 * ski_data.isnull().mean().sort_values(ascending = False)], axis=1)\n",
    "missing = pd.concat([ski_data.isnull().sum(), 100 * ski_data.isnull().mean()], axis=1)\n",
    "missing.columns=['count', '%']\n",
    "missing.sort_values(by='count', ascending = False)"
   ]
  },
  {
   "cell_type": "markdown",
   "metadata": {},
   "source": [
    "`fastEight` has the most missing values, at just over 50%. Unfortunately, you see you're also missing quite a few of your desired target quantity, the ticket price, which is missing 15-16% of values. `AdultWeekday` is missing in a few more records than `AdultWeekend`. What overlap is there in these missing values? This is a question you'll want to investigate. You should also point out that `isnull()` is not the only indicator of missing data. Sometimes 'missingness' can be encoded, perhaps by a -1 or 999. Such values are typically chosen because they are \"obviously\" not genuine values. If you were capturing data on people's heights and weights but missing someone's height, you could certainly encode that as a 0 because no one has a height of zero (in any units). Yet such entries would not be revealed by `isnull()`. Here, you need a data dictionary and/or to spot such values as part of looking for outliers. Someone with a height of zero should definitely show up as an outlier!"
   ]
  },
  {
   "cell_type": "markdown",
   "metadata": {},
   "source": [
    "### 2.6.3 Categorical Features<a id='2.6.3_Categorical_Features'></a>"
   ]
  },
  {
   "cell_type": "markdown",
   "metadata": {},
   "source": [
    "So far you've examined only the numeric features. Now you inspect categorical ones such as resort name and state. These are discrete entities. 'Alaska' is a name. Although names can be sorted alphabetically, it makes no sense to take the average of 'Alaska' and 'Arizona'. Similarly, 'Alaska' is before 'Arizona' only lexicographically; it is neither 'less than' nor 'greater than' 'Arizona'. As such, they tend to require different handling than strictly numeric quantities. Note, a feature _can_ be numeric but also categorical. For example, instead of giving the number of `fastEight` lifts, a feature might be `has_fastEights` and have the value 0 or 1 to denote absence or presence of such a lift. In such a case it would not make sense to take an average of this or perform other mathematical calculations on it. Although you digress a little to make a point, month numbers are also, strictly speaking, categorical features. Yes, when a month is represented by its number (1 for January, 2 for Februrary etc.) it provides a convenient way to graph trends over a year. And, arguably, there is some logical interpretation of the average of 1 and 3 (January and March) being 2 (February). However, clearly December of one years precedes January of the next and yet 12 as a number is not less than 1. The numeric quantities in the section above are truly numeric; they are the number of feet in the drop, or acres or years open or the amount of snowfall etc."
   ]
  },
  {
   "cell_type": "code",
   "execution_count": 19,
   "metadata": {},
   "outputs": [
    {
     "data": {
      "text/html": [
       "<div>\n",
       "<style scoped>\n",
       "    .dataframe tbody tr th:only-of-type {\n",
       "        vertical-align: middle;\n",
       "    }\n",
       "\n",
       "    .dataframe tbody tr th {\n",
       "        vertical-align: top;\n",
       "    }\n",
       "\n",
       "    .dataframe thead th {\n",
       "        text-align: right;\n",
       "    }\n",
       "</style>\n",
       "<table border=\"1\" class=\"dataframe\">\n",
       "  <thead>\n",
       "    <tr style=\"text-align: right;\">\n",
       "      <th></th>\n",
       "      <th>Name</th>\n",
       "      <th>Region</th>\n",
       "      <th>state</th>\n",
       "    </tr>\n",
       "  </thead>\n",
       "  <tbody>\n",
       "    <tr>\n",
       "      <th>0</th>\n",
       "      <td>Alyeska Resort</td>\n",
       "      <td>Alaska</td>\n",
       "      <td>Alaska</td>\n",
       "    </tr>\n",
       "    <tr>\n",
       "      <th>1</th>\n",
       "      <td>Eaglecrest Ski Area</td>\n",
       "      <td>Alaska</td>\n",
       "      <td>Alaska</td>\n",
       "    </tr>\n",
       "    <tr>\n",
       "      <th>2</th>\n",
       "      <td>Hilltop Ski Area</td>\n",
       "      <td>Alaska</td>\n",
       "      <td>Alaska</td>\n",
       "    </tr>\n",
       "    <tr>\n",
       "      <th>3</th>\n",
       "      <td>Arizona Snowbowl</td>\n",
       "      <td>Arizona</td>\n",
       "      <td>Arizona</td>\n",
       "    </tr>\n",
       "    <tr>\n",
       "      <th>4</th>\n",
       "      <td>Sunrise Park Resort</td>\n",
       "      <td>Arizona</td>\n",
       "      <td>Arizona</td>\n",
       "    </tr>\n",
       "    <tr>\n",
       "      <th>5</th>\n",
       "      <td>Yosemite Ski &amp; Snowboard Area</td>\n",
       "      <td>Northern California</td>\n",
       "      <td>California</td>\n",
       "    </tr>\n",
       "    <tr>\n",
       "      <th>6</th>\n",
       "      <td>Bear Mountain</td>\n",
       "      <td>Sierra Nevada</td>\n",
       "      <td>California</td>\n",
       "    </tr>\n",
       "    <tr>\n",
       "      <th>7</th>\n",
       "      <td>Bear Valley</td>\n",
       "      <td>Sierra Nevada</td>\n",
       "      <td>California</td>\n",
       "    </tr>\n",
       "    <tr>\n",
       "      <th>8</th>\n",
       "      <td>Boreal Mountain Resort</td>\n",
       "      <td>Sierra Nevada</td>\n",
       "      <td>California</td>\n",
       "    </tr>\n",
       "    <tr>\n",
       "      <th>9</th>\n",
       "      <td>Dodge Ridge</td>\n",
       "      <td>Sierra Nevada</td>\n",
       "      <td>California</td>\n",
       "    </tr>\n",
       "    <tr>\n",
       "      <th>10</th>\n",
       "      <td>Donner Ski Ranch</td>\n",
       "      <td>Sierra Nevada</td>\n",
       "      <td>California</td>\n",
       "    </tr>\n",
       "    <tr>\n",
       "      <th>11</th>\n",
       "      <td>Heavenly Mountain Resort</td>\n",
       "      <td>Sierra Nevada</td>\n",
       "      <td>California</td>\n",
       "    </tr>\n",
       "    <tr>\n",
       "      <th>12</th>\n",
       "      <td>June Mountain</td>\n",
       "      <td>Sierra Nevada</td>\n",
       "      <td>California</td>\n",
       "    </tr>\n",
       "    <tr>\n",
       "      <th>13</th>\n",
       "      <td>Kirkwood</td>\n",
       "      <td>Sierra Nevada</td>\n",
       "      <td>California</td>\n",
       "    </tr>\n",
       "    <tr>\n",
       "      <th>14</th>\n",
       "      <td>Mammoth Mountain Ski Area</td>\n",
       "      <td>Sierra Nevada</td>\n",
       "      <td>California</td>\n",
       "    </tr>\n",
       "    <tr>\n",
       "      <th>15</th>\n",
       "      <td>Mt. Shasta Ski Park</td>\n",
       "      <td>Sierra Nevada</td>\n",
       "      <td>California</td>\n",
       "    </tr>\n",
       "    <tr>\n",
       "      <th>16</th>\n",
       "      <td>Mountain High</td>\n",
       "      <td>Sierra Nevada</td>\n",
       "      <td>California</td>\n",
       "    </tr>\n",
       "    <tr>\n",
       "      <th>17</th>\n",
       "      <td>Mt. Baldy</td>\n",
       "      <td>Sierra Nevada</td>\n",
       "      <td>California</td>\n",
       "    </tr>\n",
       "    <tr>\n",
       "      <th>18</th>\n",
       "      <td>Northstar California</td>\n",
       "      <td>Sierra Nevada</td>\n",
       "      <td>California</td>\n",
       "    </tr>\n",
       "    <tr>\n",
       "      <th>19</th>\n",
       "      <td>Sierra-at-Tahoe</td>\n",
       "      <td>Sierra Nevada</td>\n",
       "      <td>California</td>\n",
       "    </tr>\n",
       "    <tr>\n",
       "      <th>20</th>\n",
       "      <td>Ski China Peak</td>\n",
       "      <td>Sierra Nevada</td>\n",
       "      <td>California</td>\n",
       "    </tr>\n",
       "    <tr>\n",
       "      <th>21</th>\n",
       "      <td>Snow Summit</td>\n",
       "      <td>Sierra Nevada</td>\n",
       "      <td>California</td>\n",
       "    </tr>\n",
       "    <tr>\n",
       "      <th>22</th>\n",
       "      <td>Snow Valley</td>\n",
       "      <td>Sierra Nevada</td>\n",
       "      <td>California</td>\n",
       "    </tr>\n",
       "    <tr>\n",
       "      <th>23</th>\n",
       "      <td>Soda Springs</td>\n",
       "      <td>Sierra Nevada</td>\n",
       "      <td>California</td>\n",
       "    </tr>\n",
       "    <tr>\n",
       "      <th>24</th>\n",
       "      <td>Sugar Bowl Resort</td>\n",
       "      <td>Sierra Nevada</td>\n",
       "      <td>California</td>\n",
       "    </tr>\n",
       "    <tr>\n",
       "      <th>25</th>\n",
       "      <td>Tahoe Donner</td>\n",
       "      <td>Sierra Nevada</td>\n",
       "      <td>California</td>\n",
       "    </tr>\n",
       "    <tr>\n",
       "      <th>26</th>\n",
       "      <td>Arapahoe Basin Ski Area</td>\n",
       "      <td>Colorado</td>\n",
       "      <td>Colorado</td>\n",
       "    </tr>\n",
       "    <tr>\n",
       "      <th>27</th>\n",
       "      <td>Aspen / Snowmass</td>\n",
       "      <td>Colorado</td>\n",
       "      <td>Colorado</td>\n",
       "    </tr>\n",
       "    <tr>\n",
       "      <th>28</th>\n",
       "      <td>Beaver Creek</td>\n",
       "      <td>Colorado</td>\n",
       "      <td>Colorado</td>\n",
       "    </tr>\n",
       "    <tr>\n",
       "      <th>29</th>\n",
       "      <td>Breckenridge</td>\n",
       "      <td>Colorado</td>\n",
       "      <td>Colorado</td>\n",
       "    </tr>\n",
       "    <tr>\n",
       "      <th>...</th>\n",
       "      <td>...</td>\n",
       "      <td>...</td>\n",
       "      <td>...</td>\n",
       "    </tr>\n",
       "    <tr>\n",
       "      <th>300</th>\n",
       "      <td>The Summit at Snoqualmie</td>\n",
       "      <td>Washington</td>\n",
       "      <td>Washington</td>\n",
       "    </tr>\n",
       "    <tr>\n",
       "      <th>301</th>\n",
       "      <td>White Pass</td>\n",
       "      <td>Washington</td>\n",
       "      <td>Washington</td>\n",
       "    </tr>\n",
       "    <tr>\n",
       "      <th>302</th>\n",
       "      <td>Canaan Valley Resort</td>\n",
       "      <td>West Virginia</td>\n",
       "      <td>West Virginia</td>\n",
       "    </tr>\n",
       "    <tr>\n",
       "      <th>303</th>\n",
       "      <td>Snowshoe Mountain Resort</td>\n",
       "      <td>West Virginia</td>\n",
       "      <td>West Virginia</td>\n",
       "    </tr>\n",
       "    <tr>\n",
       "      <th>304</th>\n",
       "      <td>Timberline Four Seasons</td>\n",
       "      <td>West Virginia</td>\n",
       "      <td>West Virginia</td>\n",
       "    </tr>\n",
       "    <tr>\n",
       "      <th>305</th>\n",
       "      <td>Winterplace Ski Resort</td>\n",
       "      <td>West Virginia</td>\n",
       "      <td>West Virginia</td>\n",
       "    </tr>\n",
       "    <tr>\n",
       "      <th>306</th>\n",
       "      <td>Alpine Valley Resort</td>\n",
       "      <td>Wisconsin</td>\n",
       "      <td>Wisconsin</td>\n",
       "    </tr>\n",
       "    <tr>\n",
       "      <th>307</th>\n",
       "      <td>Bruce Mound</td>\n",
       "      <td>Wisconsin</td>\n",
       "      <td>Wisconsin</td>\n",
       "    </tr>\n",
       "    <tr>\n",
       "      <th>308</th>\n",
       "      <td>Cascade Mountain</td>\n",
       "      <td>Wisconsin</td>\n",
       "      <td>Wisconsin</td>\n",
       "    </tr>\n",
       "    <tr>\n",
       "      <th>309</th>\n",
       "      <td>Christie Mountain</td>\n",
       "      <td>Wisconsin</td>\n",
       "      <td>Wisconsin</td>\n",
       "    </tr>\n",
       "    <tr>\n",
       "      <th>310</th>\n",
       "      <td>Christmas Mountain</td>\n",
       "      <td>Wisconsin</td>\n",
       "      <td>Wisconsin</td>\n",
       "    </tr>\n",
       "    <tr>\n",
       "      <th>311</th>\n",
       "      <td>Devils Head</td>\n",
       "      <td>Wisconsin</td>\n",
       "      <td>Wisconsin</td>\n",
       "    </tr>\n",
       "    <tr>\n",
       "      <th>312</th>\n",
       "      <td>Grand Geneva</td>\n",
       "      <td>Wisconsin</td>\n",
       "      <td>Wisconsin</td>\n",
       "    </tr>\n",
       "    <tr>\n",
       "      <th>313</th>\n",
       "      <td>Granite Peak Ski Area</td>\n",
       "      <td>Wisconsin</td>\n",
       "      <td>Wisconsin</td>\n",
       "    </tr>\n",
       "    <tr>\n",
       "      <th>314</th>\n",
       "      <td>Little Switzerland</td>\n",
       "      <td>Wisconsin</td>\n",
       "      <td>Wisconsin</td>\n",
       "    </tr>\n",
       "    <tr>\n",
       "      <th>315</th>\n",
       "      <td>Mount La Crosse</td>\n",
       "      <td>Wisconsin</td>\n",
       "      <td>Wisconsin</td>\n",
       "    </tr>\n",
       "    <tr>\n",
       "      <th>316</th>\n",
       "      <td>Nordic Mountain</td>\n",
       "      <td>Wisconsin</td>\n",
       "      <td>Wisconsin</td>\n",
       "    </tr>\n",
       "    <tr>\n",
       "      <th>317</th>\n",
       "      <td>Sunburst</td>\n",
       "      <td>Wisconsin</td>\n",
       "      <td>Wisconsin</td>\n",
       "    </tr>\n",
       "    <tr>\n",
       "      <th>318</th>\n",
       "      <td>Trollhaugen</td>\n",
       "      <td>Wisconsin</td>\n",
       "      <td>Wisconsin</td>\n",
       "    </tr>\n",
       "    <tr>\n",
       "      <th>319</th>\n",
       "      <td>Tyrol Basin</td>\n",
       "      <td>Wisconsin</td>\n",
       "      <td>Wisconsin</td>\n",
       "    </tr>\n",
       "    <tr>\n",
       "      <th>320</th>\n",
       "      <td>Whitecap Mountain</td>\n",
       "      <td>Wisconsin</td>\n",
       "      <td>Wisconsin</td>\n",
       "    </tr>\n",
       "    <tr>\n",
       "      <th>321</th>\n",
       "      <td>Wilmot Mountain</td>\n",
       "      <td>Wisconsin</td>\n",
       "      <td>Wisconsin</td>\n",
       "    </tr>\n",
       "    <tr>\n",
       "      <th>322</th>\n",
       "      <td>Grand Targhee Resort</td>\n",
       "      <td>Wyoming</td>\n",
       "      <td>Wyoming</td>\n",
       "    </tr>\n",
       "    <tr>\n",
       "      <th>323</th>\n",
       "      <td>Hogadon Basin</td>\n",
       "      <td>Wyoming</td>\n",
       "      <td>Wyoming</td>\n",
       "    </tr>\n",
       "    <tr>\n",
       "      <th>324</th>\n",
       "      <td>Jackson Hole</td>\n",
       "      <td>Wyoming</td>\n",
       "      <td>Wyoming</td>\n",
       "    </tr>\n",
       "    <tr>\n",
       "      <th>325</th>\n",
       "      <td>Meadowlark Ski Lodge</td>\n",
       "      <td>Wyoming</td>\n",
       "      <td>Wyoming</td>\n",
       "    </tr>\n",
       "    <tr>\n",
       "      <th>326</th>\n",
       "      <td>Sleeping Giant Ski Resort</td>\n",
       "      <td>Wyoming</td>\n",
       "      <td>Wyoming</td>\n",
       "    </tr>\n",
       "    <tr>\n",
       "      <th>327</th>\n",
       "      <td>Snow King Resort</td>\n",
       "      <td>Wyoming</td>\n",
       "      <td>Wyoming</td>\n",
       "    </tr>\n",
       "    <tr>\n",
       "      <th>328</th>\n",
       "      <td>Snowy Range Ski &amp; Recreation Area</td>\n",
       "      <td>Wyoming</td>\n",
       "      <td>Wyoming</td>\n",
       "    </tr>\n",
       "    <tr>\n",
       "      <th>329</th>\n",
       "      <td>White Pine Ski Area</td>\n",
       "      <td>Wyoming</td>\n",
       "      <td>Wyoming</td>\n",
       "    </tr>\n",
       "  </tbody>\n",
       "</table>\n",
       "<p>330 rows × 3 columns</p>\n",
       "</div>"
      ],
      "text/plain": [
       "                                  Name               Region          state\n",
       "0                       Alyeska Resort               Alaska         Alaska\n",
       "1                  Eaglecrest Ski Area               Alaska         Alaska\n",
       "2                     Hilltop Ski Area               Alaska         Alaska\n",
       "3                     Arizona Snowbowl              Arizona        Arizona\n",
       "4                  Sunrise Park Resort              Arizona        Arizona\n",
       "5        Yosemite Ski & Snowboard Area  Northern California     California\n",
       "6                        Bear Mountain        Sierra Nevada     California\n",
       "7                          Bear Valley        Sierra Nevada     California\n",
       "8               Boreal Mountain Resort        Sierra Nevada     California\n",
       "9                          Dodge Ridge        Sierra Nevada     California\n",
       "10                    Donner Ski Ranch        Sierra Nevada     California\n",
       "11            Heavenly Mountain Resort        Sierra Nevada     California\n",
       "12                       June Mountain        Sierra Nevada     California\n",
       "13                            Kirkwood        Sierra Nevada     California\n",
       "14           Mammoth Mountain Ski Area        Sierra Nevada     California\n",
       "15                 Mt. Shasta Ski Park        Sierra Nevada     California\n",
       "16                       Mountain High        Sierra Nevada     California\n",
       "17                           Mt. Baldy        Sierra Nevada     California\n",
       "18                Northstar California        Sierra Nevada     California\n",
       "19                     Sierra-at-Tahoe        Sierra Nevada     California\n",
       "20                      Ski China Peak        Sierra Nevada     California\n",
       "21                         Snow Summit        Sierra Nevada     California\n",
       "22                         Snow Valley        Sierra Nevada     California\n",
       "23                        Soda Springs        Sierra Nevada     California\n",
       "24                   Sugar Bowl Resort        Sierra Nevada     California\n",
       "25                        Tahoe Donner        Sierra Nevada     California\n",
       "26             Arapahoe Basin Ski Area             Colorado       Colorado\n",
       "27                    Aspen / Snowmass             Colorado       Colorado\n",
       "28                        Beaver Creek             Colorado       Colorado\n",
       "29                        Breckenridge             Colorado       Colorado\n",
       "..                                 ...                  ...            ...\n",
       "300           The Summit at Snoqualmie           Washington     Washington\n",
       "301                         White Pass           Washington     Washington\n",
       "302               Canaan Valley Resort        West Virginia  West Virginia\n",
       "303           Snowshoe Mountain Resort        West Virginia  West Virginia\n",
       "304            Timberline Four Seasons        West Virginia  West Virginia\n",
       "305             Winterplace Ski Resort        West Virginia  West Virginia\n",
       "306               Alpine Valley Resort            Wisconsin      Wisconsin\n",
       "307                        Bruce Mound            Wisconsin      Wisconsin\n",
       "308                   Cascade Mountain            Wisconsin      Wisconsin\n",
       "309                  Christie Mountain            Wisconsin      Wisconsin\n",
       "310                 Christmas Mountain            Wisconsin      Wisconsin\n",
       "311                        Devils Head            Wisconsin      Wisconsin\n",
       "312                       Grand Geneva            Wisconsin      Wisconsin\n",
       "313              Granite Peak Ski Area            Wisconsin      Wisconsin\n",
       "314                 Little Switzerland            Wisconsin      Wisconsin\n",
       "315                    Mount La Crosse            Wisconsin      Wisconsin\n",
       "316                    Nordic Mountain            Wisconsin      Wisconsin\n",
       "317                           Sunburst            Wisconsin      Wisconsin\n",
       "318                        Trollhaugen            Wisconsin      Wisconsin\n",
       "319                        Tyrol Basin            Wisconsin      Wisconsin\n",
       "320                  Whitecap Mountain            Wisconsin      Wisconsin\n",
       "321                    Wilmot Mountain            Wisconsin      Wisconsin\n",
       "322               Grand Targhee Resort              Wyoming        Wyoming\n",
       "323                      Hogadon Basin              Wyoming        Wyoming\n",
       "324                       Jackson Hole              Wyoming        Wyoming\n",
       "325               Meadowlark Ski Lodge              Wyoming        Wyoming\n",
       "326          Sleeping Giant Ski Resort              Wyoming        Wyoming\n",
       "327                   Snow King Resort              Wyoming        Wyoming\n",
       "328  Snowy Range Ski & Recreation Area              Wyoming        Wyoming\n",
       "329                White Pine Ski Area              Wyoming        Wyoming\n",
       "\n",
       "[330 rows x 3 columns]"
      ]
     },
     "execution_count": 19,
     "metadata": {},
     "output_type": "execute_result"
    }
   ],
   "source": [
    "#Code task 6#\n",
    "#Use ski_data's `select_dtypes` method to select columns of dtype 'object'\n",
    "ski_data.select_dtypes('object')"
   ]
  },
  {
   "cell_type": "markdown",
   "metadata": {},
   "source": [
    "You saw earlier on that these three columns had no missing values. But are there any other issues with these columns? Sensible questions to ask here include:\n",
    "\n",
    "* Is `Name` (or at least a combination of Name/Region/State) unique?\n",
    "* Is `Region` always the same as `state`?"
   ]
  },
  {
   "cell_type": "markdown",
   "metadata": {},
   "source": [
    "#### 2.6.3.1 Unique Resort Names<a id='2.6.3.1_Unique_Resort_Names'></a>"
   ]
  },
  {
   "cell_type": "code",
   "execution_count": 21,
   "metadata": {},
   "outputs": [
    {
     "data": {
      "text/plain": [
       "Crystal Mountain                 2\n",
       "Yosemite Ski & Snowboard Area    1\n",
       "Willamette Pass                  1\n",
       "Mont Ripley                      1\n",
       "Greek Peak                       1\n",
       "Name: Name, dtype: int64"
      ]
     },
     "execution_count": 21,
     "metadata": {},
     "output_type": "execute_result"
    }
   ],
   "source": [
    "#Code task 7#\n",
    "#Use pandas' Series method `value_counts` to find any duplicated resort names\n",
    "ski_data['Name'].value_counts().head()"
   ]
  },
  {
   "cell_type": "markdown",
   "metadata": {},
   "source": [
    "You have a duplicated resort name: Crystal Mountain."
   ]
  },
  {
   "cell_type": "markdown",
   "metadata": {},
   "source": [
    "**Q: 1** Is this resort duplicated if you take into account Region and/or state as well?"
   ]
  },
  {
   "cell_type": "code",
   "execution_count": 22,
   "metadata": {},
   "outputs": [
    {
     "data": {
      "text/plain": [
       "Willard Mountain, New York                1\n",
       "Mt. Holiday Ski Area, Michigan            1\n",
       "Hyland Ski & Snowboard Area, Minnesota    1\n",
       "Stevens Pass Resort, Washington           1\n",
       "West Mountain, New York                   1\n",
       "dtype: int64"
      ]
     },
     "execution_count": 22,
     "metadata": {},
     "output_type": "execute_result"
    }
   ],
   "source": [
    "#Code task 8#\n",
    "#Concatenate the string columns 'Name' and 'Region' and count the values again (as above)\n",
    "(ski_data['Name'] + ', ' + ski_data['Region']).value_counts().head()"
   ]
  },
  {
   "cell_type": "code",
   "execution_count": 25,
   "metadata": {},
   "outputs": [
    {
     "data": {
      "text/plain": [
       "Ski China Peak, California                   1\n",
       "Ski Apache, New Mexico                       1\n",
       "Mt. Ashland, Oregon                          1\n",
       "Yosemite Ski & Snowboard Area, California    1\n",
       "Mt. Holiday Ski Area, Michigan               1\n",
       "dtype: int64"
      ]
     },
     "execution_count": 25,
     "metadata": {},
     "output_type": "execute_result"
    }
   ],
   "source": [
    "#Code task 9#\n",
    "#Concatenate 'Name' and 'state' and count the values again (as above)\n",
    "(ski_data['Name'] + ', ' + ski_data['state']).value_counts().head()"
   ]
  },
  {
   "cell_type": "markdown",
   "metadata": {},
   "source": [
    "** NB because you know `value_counts()` sorts descending, you can use the `head()` method and know the rest of the counts must be 1."
   ]
  },
  {
   "cell_type": "markdown",
   "metadata": {},
   "source": [
    "**A: 1** Your answer here"
   ]
  },
  {
   "cell_type": "code",
   "execution_count": 27,
   "metadata": {},
   "outputs": [
    {
     "data": {
      "text/html": [
       "<div>\n",
       "<style scoped>\n",
       "    .dataframe tbody tr th:only-of-type {\n",
       "        vertical-align: middle;\n",
       "    }\n",
       "\n",
       "    .dataframe tbody tr th {\n",
       "        vertical-align: top;\n",
       "    }\n",
       "\n",
       "    .dataframe thead th {\n",
       "        text-align: right;\n",
       "    }\n",
       "</style>\n",
       "<table border=\"1\" class=\"dataframe\">\n",
       "  <thead>\n",
       "    <tr style=\"text-align: right;\">\n",
       "      <th></th>\n",
       "      <th>Name</th>\n",
       "      <th>Region</th>\n",
       "      <th>state</th>\n",
       "      <th>summit_elev</th>\n",
       "      <th>vertical_drop</th>\n",
       "      <th>base_elev</th>\n",
       "      <th>trams</th>\n",
       "      <th>fastEight</th>\n",
       "      <th>fastSixes</th>\n",
       "      <th>fastQuads</th>\n",
       "      <th>...</th>\n",
       "      <th>LongestRun_mi</th>\n",
       "      <th>SkiableTerrain_ac</th>\n",
       "      <th>Snow Making_ac</th>\n",
       "      <th>daysOpenLastYear</th>\n",
       "      <th>yearsOpen</th>\n",
       "      <th>averageSnowfall</th>\n",
       "      <th>AdultWeekday</th>\n",
       "      <th>AdultWeekend</th>\n",
       "      <th>projectedDaysOpen</th>\n",
       "      <th>NightSkiing_ac</th>\n",
       "    </tr>\n",
       "  </thead>\n",
       "  <tbody>\n",
       "    <tr>\n",
       "      <th>104</th>\n",
       "      <td>Crystal Mountain</td>\n",
       "      <td>Michigan</td>\n",
       "      <td>Michigan</td>\n",
       "      <td>1132</td>\n",
       "      <td>375</td>\n",
       "      <td>757</td>\n",
       "      <td>0</td>\n",
       "      <td>0.0</td>\n",
       "      <td>0</td>\n",
       "      <td>1</td>\n",
       "      <td>...</td>\n",
       "      <td>0.3</td>\n",
       "      <td>102.0</td>\n",
       "      <td>96.0</td>\n",
       "      <td>120.0</td>\n",
       "      <td>63.0</td>\n",
       "      <td>132.0</td>\n",
       "      <td>54.0</td>\n",
       "      <td>64.0</td>\n",
       "      <td>135.0</td>\n",
       "      <td>56.0</td>\n",
       "    </tr>\n",
       "    <tr>\n",
       "      <th>295</th>\n",
       "      <td>Crystal Mountain</td>\n",
       "      <td>Washington</td>\n",
       "      <td>Washington</td>\n",
       "      <td>7012</td>\n",
       "      <td>3100</td>\n",
       "      <td>4400</td>\n",
       "      <td>1</td>\n",
       "      <td>NaN</td>\n",
       "      <td>2</td>\n",
       "      <td>2</td>\n",
       "      <td>...</td>\n",
       "      <td>2.5</td>\n",
       "      <td>2600.0</td>\n",
       "      <td>10.0</td>\n",
       "      <td>NaN</td>\n",
       "      <td>57.0</td>\n",
       "      <td>486.0</td>\n",
       "      <td>99.0</td>\n",
       "      <td>99.0</td>\n",
       "      <td>NaN</td>\n",
       "      <td>NaN</td>\n",
       "    </tr>\n",
       "  </tbody>\n",
       "</table>\n",
       "<p>2 rows × 27 columns</p>\n",
       "</div>"
      ],
      "text/plain": [
       "                 Name      Region       state  summit_elev  vertical_drop  \\\n",
       "104  Crystal Mountain    Michigan    Michigan         1132            375   \n",
       "295  Crystal Mountain  Washington  Washington         7012           3100   \n",
       "\n",
       "     base_elev  trams  fastEight  fastSixes  fastQuads  ...  LongestRun_mi  \\\n",
       "104        757      0        0.0          0          1  ...            0.3   \n",
       "295       4400      1        NaN          2          2  ...            2.5   \n",
       "\n",
       "     SkiableTerrain_ac  Snow Making_ac  daysOpenLastYear  yearsOpen  \\\n",
       "104              102.0            96.0             120.0       63.0   \n",
       "295             2600.0            10.0               NaN       57.0   \n",
       "\n",
       "     averageSnowfall  AdultWeekday  AdultWeekend  projectedDaysOpen  \\\n",
       "104            132.0          54.0          64.0              135.0   \n",
       "295            486.0          99.0          99.0                NaN   \n",
       "\n",
       "     NightSkiing_ac  \n",
       "104            56.0  \n",
       "295             NaN  \n",
       "\n",
       "[2 rows x 27 columns]"
      ]
     },
     "execution_count": 27,
     "metadata": {},
     "output_type": "execute_result"
    }
   ],
   "source": [
    "ski_data[ski_data['Name'] == 'Crystal Mountain']"
   ]
  },
  {
   "cell_type": "markdown",
   "metadata": {},
   "source": [
    "So there are two Crystal Mountain resorts, but they are clearly two different resorts in two different states. This is a powerful signal that you have unique records on each row."
   ]
  },
  {
   "cell_type": "markdown",
   "metadata": {},
   "source": [
    "#### 2.6.3.2 Region And State<a id='2.6.3.2_Region_And_State'></a>"
   ]
  },
  {
   "cell_type": "markdown",
   "metadata": {},
   "source": [
    "What's the relationship between region and state?"
   ]
  },
  {
   "cell_type": "markdown",
   "metadata": {},
   "source": [
    "You know they are the same in many cases (e.g. both the Region and the state are given as 'Michigan'). In how many cases do they differ?"
   ]
  },
  {
   "cell_type": "code",
   "execution_count": 28,
   "metadata": {},
   "outputs": [
    {
     "data": {
      "text/plain": [
       "False    297\n",
       "True      33\n",
       "dtype: int64"
      ]
     },
     "execution_count": 28,
     "metadata": {},
     "output_type": "execute_result"
    }
   ],
   "source": [
    "#Code task 10#\n",
    "#Calculate the number of times Region does not equal state #regions that are not equal to state are 33\n",
    "(ski_data.Region != ski_data.state).value_counts()"
   ]
  },
  {
   "cell_type": "markdown",
   "metadata": {},
   "source": [
    "You know what a state is. What is a region? You can tabulate the distinct values along with their respective frequencies using `value_counts()`."
   ]
  },
  {
   "cell_type": "code",
   "execution_count": 29,
   "metadata": {},
   "outputs": [
    {
     "data": {
      "text/plain": [
       "New York               33\n",
       "Michigan               29\n",
       "Sierra Nevada          22\n",
       "Colorado               22\n",
       "Pennsylvania           19\n",
       "New Hampshire          16\n",
       "Wisconsin              16\n",
       "Vermont                15\n",
       "Minnesota              14\n",
       "Montana                12\n",
       "Idaho                  12\n",
       "Massachusetts          11\n",
       "Washington             10\n",
       "New Mexico              9\n",
       "Maine                   9\n",
       "Wyoming                 8\n",
       "Utah                    7\n",
       "Oregon                  6\n",
       "North Carolina          6\n",
       "Salt Lake City          6\n",
       "Ohio                    5\n",
       "Connecticut             5\n",
       "Virginia                4\n",
       "Illinois                4\n",
       "West Virginia           4\n",
       "Mt. Hood                4\n",
       "Iowa                    3\n",
       "Alaska                  3\n",
       "New Jersey              2\n",
       "Nevada                  2\n",
       "Arizona                 2\n",
       "Indiana                 2\n",
       "South Dakota            2\n",
       "Missouri                2\n",
       "Tennessee               1\n",
       "Maryland                1\n",
       "Rhode Island            1\n",
       "Northern California     1\n",
       "Name: Region, dtype: int64"
      ]
     },
     "execution_count": 29,
     "metadata": {},
     "output_type": "execute_result"
    }
   ],
   "source": [
    "ski_data['Region'].value_counts()"
   ]
  },
  {
   "cell_type": "markdown",
   "metadata": {},
   "source": [
    "A casual inspection by eye reveals some non-state names such as Sierra Nevada, Salt Lake City, and Northern California. Tabulate the differences between Region and state. On a note regarding scaling to larger data sets, you might wonder how you could spot such cases when presented with millions of rows. This is an interesting point. Imagine you have access to a database with a Region and state column in a table and there are millions of rows. You wouldn't eyeball all the rows looking for differences! Bear in mind that our first interest lies in establishing the answer to the question \"Are they always the same?\" One approach might be to ask the database to return records where they differ, but limit the output to 10 rows. If there were differences, you'd only get up to 10 results, and so you wouldn't know whether you'd located all differences, but you'd know that there were 'a nonzero number' of differences. If you got an empty result set back, then you would know that the two columns always had the same value. At the risk of digressing, some values in one column only might be NULL (missing) and different databases treat NULL differently, so be aware that on many an occasion a seamingly 'simple' question gets very interesting to answer very quickly!"
   ]
  },
  {
   "cell_type": "code",
   "execution_count": 31,
   "metadata": {},
   "outputs": [
    {
     "data": {
      "text/plain": [
       "state       Region             \n",
       "California  Sierra Nevada          20\n",
       "            Northern California     1\n",
       "Nevada      Sierra Nevada           2\n",
       "Oregon      Mt. Hood                4\n",
       "Utah        Salt Lake City          6\n",
       "Name: Region, dtype: int64"
      ]
     },
     "execution_count": 31,
     "metadata": {},
     "output_type": "execute_result"
    }
   ],
   "source": [
    "#Code task 11#\n",
    "#Filter the ski_data dataframe for rows where 'Region' and 'state' are different,\n",
    "#group that by 'state' and perform `value_counts` on the 'Region'\n",
    "(ski_data[ski_data.Region != ski_data.state]\n",
    " .groupby('state')['Region']\n",
    " .value_counts())"
   ]
  },
  {
   "cell_type": "markdown",
   "metadata": {},
   "source": [
    "The vast majority of the differences are in California, with most Regions being called Sierra Nevada and just one referred to as Northern California."
   ]
  },
  {
   "cell_type": "markdown",
   "metadata": {},
   "source": [
    "#### 2.6.3.3 Number of distinct regions and states<a id='2.6.3.3_Number_of_distinct_regions_and_states'></a>"
   ]
  },
  {
   "cell_type": "code",
   "execution_count": 32,
   "metadata": {},
   "outputs": [
    {
     "data": {
      "text/plain": [
       "Region    38\n",
       "state     35\n",
       "dtype: int64"
      ]
     },
     "execution_count": 32,
     "metadata": {},
     "output_type": "execute_result"
    }
   ],
   "source": [
    "#Code task 12#\n",
    "#Select the 'Region' and 'state' columns from ski_data and use the `nunique` method to calculate\n",
    "#the number of unique values in each\n",
    "ski_data[['Region', 'state']].nunique()"
   ]
  },
  {
   "cell_type": "markdown",
   "metadata": {},
   "source": [
    "Because a few states are split across multiple named regions, there are slightly more unique regions than states."
   ]
  },
  {
   "cell_type": "markdown",
   "metadata": {},
   "source": [
    "#### 2.6.3.4 Distribution Of Resorts By Region And State<a id='2.6.3.4_Distribution_Of_Resorts_By_Region_And_State'></a>"
   ]
  },
  {
   "cell_type": "markdown",
   "metadata": {},
   "source": [
    "If this is your first time using [matplotlib](https://matplotlib.org/3.2.2/index.html)'s [subplots](https://matplotlib.org/3.2.2/api/_as_gen/matplotlib.pyplot.subplots.html), you may find the online documentation useful."
   ]
  },
  {
   "cell_type": "code",
   "execution_count": 33,
   "metadata": {},
   "outputs": [
    {
     "data": {
      "image/png": "[encoded data removed]",
      "text/plain": [
       "<Figure size 864x576 with 2 Axes>"
      ]
     },
     "metadata": {
      "needs_background": "light"
     },
     "output_type": "display_data"
    }
   ],
   "source": [
    "#Code task 13#\n",
    "#Create two subplots on 1 row and 2 columns with a figsize of (12, 8)\n",
    "fig, ax = plt.subplots(1, 2, figsize=(12, 8))\n",
    "#Specify a horizontal barplot ('barh') as kind of plot (kind=)\n",
    "ski_data.Region.value_counts().plot(kind='barh', ax=ax[0])\n",
    "#Give the plot a helpful title of 'Region'\n",
    "ax[0].set_title('Region')\n",
    "#Label the xaxis 'Count'\n",
    "ax[0].set_xlabel('Count')\n",
    "#Specify a horizontal barplot ('barh') as kind of plot (kind=)\n",
    "ski_data.state.value_counts().plot(kind='barh', ax=ax[1])\n",
    "#Give the plot a helpful title of 'state'\n",
    "ax[1].set_title('state')\n",
    "#Label the xaxis 'Count'\n",
    "ax[1].set_xlabel('Count')\n",
    "#Give the subplots a little \"breathing room\" with a wspace of 0.5\n",
    "plt.subplots_adjust(wspace=0.5);\n",
    "#You're encouraged to explore a few different figure sizes, orientations, and spacing here\n",
    "# as the importance of easy-to-read and informative figures is frequently understated\n",
    "# and you will find the ability to tweak figures invaluable later on"
   ]
  },
  {
   "cell_type": "markdown",
   "metadata": {},
   "source": [
    "How's your geography? Looking at the distribution of States, you see New York accounting for the majority of resorts. Our target resort is in Montana, which comes in at 13th place. You should think carefully about how, or whether, you use this information. Does New York command a premium because of its proximity to population? Even if a resort's State were a useful predictor of ticket price, your main interest lies in Montana. Would you want a model that is skewed for accuracy by New York? Should you just filter for Montana and create a Montana-specific model? This would slash your available data volume. Your problem task includes the contextual insight that the data are for resorts all belonging to the same market share. This suggests one might expect prices to be similar amongst them. You can look into this. A boxplot grouped by State is an ideal way to quickly compare prices. Another side note worth bringing up here is that, in reality, the best approach here definitely would include consulting with the client or other domain expert. They might know of good reasons for treating states equivalently or differently. The data scientist is rarely the final arbiter of such a decision. But here, you'll see if we can find any supporting evidence for treating states the same or differently."
   ]
  },
  {
   "cell_type": "markdown",
   "metadata": {},
   "source": [
    "#### 2.6.3.5 Distribution Of Ticket Price By State<a id='2.6.3.5_Distribution_Of_Ticket_Price_By_State'></a>"
   ]
  },
  {
   "cell_type": "markdown",
   "metadata": {},
   "source": [
    "Our primary focus is our Big Mountain resort, in Montana. Does the state give you any clues to help decide what your primary target response feature should be (weekend or weekday ticket prices)?"
   ]
  },
  {
   "cell_type": "markdown",
   "metadata": {},
   "source": [
    "##### 2.6.3.5.1 Average weekend and weekday price by state<a id='2.6.3.5.1_Average_weekend_and_weekday_price_by_state'></a>"
   ]
  },
  {
   "cell_type": "code",
   "execution_count": 45,
   "metadata": {},
   "outputs": [
    {
     "data": {
      "text/html": [
       "<div>\n",
       "<style scoped>\n",
       "    .dataframe tbody tr th:only-of-type {\n",
       "        vertical-align: middle;\n",
       "    }\n",
       "\n",
       "    .dataframe tbody tr th {\n",
       "        vertical-align: top;\n",
       "    }\n",
       "\n",
       "    .dataframe thead th {\n",
       "        text-align: right;\n",
       "    }\n",
       "</style>\n",
       "<table border=\"1\" class=\"dataframe\">\n",
       "  <thead>\n",
       "    <tr style=\"text-align: right;\">\n",
       "      <th></th>\n",
       "      <th>AdultWeekday</th>\n",
       "      <th>AdultWeekend</th>\n",
       "    </tr>\n",
       "    <tr>\n",
       "      <th>state</th>\n",
       "      <th></th>\n",
       "      <th></th>\n",
       "    </tr>\n",
       "  </thead>\n",
       "  <tbody>\n",
       "    <tr>\n",
       "      <th>Alaska</th>\n",
       "      <td>47.333333</td>\n",
       "      <td>57.333333</td>\n",
       "    </tr>\n",
       "    <tr>\n",
       "      <th>Arizona</th>\n",
       "      <td>81.500000</td>\n",
       "      <td>83.500000</td>\n",
       "    </tr>\n",
       "    <tr>\n",
       "      <th>California</th>\n",
       "      <td>78.214286</td>\n",
       "      <td>81.416667</td>\n",
       "    </tr>\n",
       "    <tr>\n",
       "      <th>Colorado</th>\n",
       "      <td>90.714286</td>\n",
       "      <td>90.714286</td>\n",
       "    </tr>\n",
       "    <tr>\n",
       "      <th>Connecticut</th>\n",
       "      <td>47.800000</td>\n",
       "      <td>56.800000</td>\n",
       "    </tr>\n",
       "  </tbody>\n",
       "</table>\n",
       "</div>"
      ],
      "text/plain": [
       "             AdultWeekday  AdultWeekend\n",
       "state                                  \n",
       "Alaska          47.333333     57.333333\n",
       "Arizona         81.500000     83.500000\n",
       "California      78.214286     81.416667\n",
       "Colorado        90.714286     90.714286\n",
       "Connecticut     47.800000     56.800000"
      ]
     },
     "execution_count": 45,
     "metadata": {},
     "output_type": "execute_result"
    }
   ],
   "source": [
    "#Code task 14#\n",
    "# Calculate average weekday and weekend price by state and sort by the average of the two?\n",
    "# Hint: use the pattern dataframe.groupby(<grouping variable>)[<list of columns>].mean()\n",
    "state_price_means = ski_data.groupby('state')[['AdultWeekday', 'AdultWeekend']].mean()#.sort_values(by = 'AdultWeekday')\n",
    "state_price_means.head()"
   ]
  },
  {
   "cell_type": "code",
   "execution_count": 52,
   "metadata": {},
   "outputs": [
    {
     "data": {
      "text/plain": [
       "state\n",
       "Alaska         52.333333\n",
       "Arizona        82.500000\n",
       "California     79.815476\n",
       "Colorado       90.714286\n",
       "Connecticut    52.300000\n",
       "dtype: float64"
      ]
     },
     "execution_count": 52,
     "metadata": {},
     "output_type": "execute_result"
    }
   ],
   "source": [
    "state_price_means.mean(axis=1).head()#average of weekday and weekend price in each state (row-wise)"
   ]
  },
  {
   "cell_type": "code",
   "execution_count": 57,
   "metadata": {},
   "outputs": [
    {
     "data": {
      "text/plain": [
       "Index(['Alaska', 'Arizona', 'California', 'Colorado', 'Connecticut', 'Idaho',\n",
       "       'Illinois', 'Indiana', 'Iowa', 'Maine', 'Maryland', 'Massachusetts',\n",
       "       'Michigan', 'Minnesota', 'Missouri', 'Montana', 'Nevada',\n",
       "       'New Hampshire', 'New Jersey', 'New Mexico', 'New York',\n",
       "       'North Carolina', 'Ohio', 'Oregon', 'Pennsylvania', 'Rhode Island',\n",
       "       'South Dakota', 'Tennessee', 'Utah', 'Vermont', 'Virginia',\n",
       "       'Washington', 'West Virginia', 'Wisconsin', 'Wyoming'],\n",
       "      dtype='object', name='state')"
      ]
     },
     "execution_count": 57,
     "metadata": {},
     "output_type": "execute_result"
    }
   ],
   "source": [
    "state_price_means.index"
   ]
  },
  {
   "cell_type": "code",
   "execution_count": 46,
   "metadata": {},
   "outputs": [
    {
     "data": {
      "image/png": "[encoded data removed]",
      "text/plain": [
       "<Figure size 720x720 with 1 Axes>"
      ]
     },
     "metadata": {
      "needs_background": "light"
     },
     "output_type": "display_data"
    }
   ],
   "source": [
    "# The next bit simply reorders the index by increasing average of weekday and weekend prices\n",
    "# Compare the index order you get from\n",
    "# state_price_means.index\n",
    "# with\n",
    "# state_price_means.mean(axis=1).sort_values(ascending=False).index\n",
    "# See how this expression simply sits within the reindex()\n",
    "(state_price_means.reindex(index=state_price_means.mean(axis=1)\n",
    "    .sort_values(ascending=False)\n",
    "    .index)\n",
    "    .plot(kind='barh', figsize=(10, 10), title='Average ticket price by State'))\n",
    "plt.xlabel('Price ($)');"
   ]
  },
  {
   "cell_type": "code",
   "execution_count": 55,
   "metadata": {},
   "outputs": [
    {
     "data": {
      "image/png": "[encoded data removed]",
      "text/plain": [
       "<Figure size 720x720 with 1 Axes>"
      ]
     },
     "metadata": {
      "needs_background": "light"
     },
     "output_type": "display_data"
    }
   ],
   "source": [
    "# The next bit simply reorders the index by increasing average of weekday and weekend prices\n",
    "# Compare the index order you get from\n",
    "# state_price_means.index\n",
    "# with\n",
    "# state_price_means.mean(axis=1).sort_values(ascending=False).index\n",
    "# See how this expression simply sits within the reindex()\n",
    "(state_price_means.reindex(index=state_price_means\n",
    "    .index)\n",
    "    .plot(kind='barh', figsize=(10, 10), title='Average ticket price by State'))\n",
    "plt.xlabel('Price ($)');"
   ]
  },
  {
   "cell_type": "code",
   "execution_count": null,
   "metadata": {},
   "outputs": [],
   "source": [
    "The figure above represents a dataframe with two columns, one for the average prices of each kind of ticket. This tells you how the average ticket price varies from state to state. But can you get more insight into the difference in the distributions between states?"
   ]
  },
  {
   "cell_type": "markdown",
   "metadata": {},
   "source": [
    "##### 2.6.3.5.2 Distribution of weekday and weekend price by state<a id='2.6.3.5.2_Distribution_of_weekday_and_weekend_price_by_state'></a>"
   ]
  },
  {
   "cell_type": "markdown",
   "metadata": {},
   "source": [
    "Next, you can transform the data into a single column for price with a new categorical column that represents the ticket type."
   ]
  },
  {
   "cell_type": "code",
   "execution_count": 59,
   "metadata": {},
   "outputs": [],
   "source": [
    "#Code task 15#\n",
    "#Use the pd.melt function, pass in the ski_data columns 'state', 'AdultWeekday', and 'Adultweekend' only,#distributions considering all prices amongst states\n",
    "#specify 'state' for `id_vars`\n",
    "#gather the ticket prices from the 'Adultweekday' and 'AdultWeekend' columns using the `value_vars` argument,\n",
    "#call the resultant price column 'Price' via the `value_name` argument,\n",
    "#name the weekday/weekend indicator column 'Ticket' via the `var_name` argument\n",
    "ticket_prices = pd.melt(ski_data[['state', 'AdultWeekday', 'AdultWeekend']], \n",
    "                        id_vars='state', \n",
    "                        var_name='Ticket', \n",
    "                        value_vars=['AdultWeekday', 'AdultWeekend'], \n",
    "                        value_name='Price')"
   ]
  },
  {
   "cell_type": "code",
   "execution_count": 60,
   "metadata": {},
   "outputs": [
    {
     "data": {
      "text/html": [
       "<div>\n",
       "<style scoped>\n",
       "    .dataframe tbody tr th:only-of-type {\n",
       "        vertical-align: middle;\n",
       "    }\n",
       "\n",
       "    .dataframe tbody tr th {\n",
       "        vertical-align: top;\n",
       "    }\n",
       "\n",
       "    .dataframe thead th {\n",
       "        text-align: right;\n",
       "    }\n",
       "</style>\n",
       "<table border=\"1\" class=\"dataframe\">\n",
       "  <thead>\n",
       "    <tr style=\"text-align: right;\">\n",
       "      <th></th>\n",
       "      <th>state</th>\n",
       "      <th>Ticket</th>\n",
       "      <th>Price</th>\n",
       "    </tr>\n",
       "  </thead>\n",
       "  <tbody>\n",
       "    <tr>\n",
       "      <th>0</th>\n",
       "      <td>Alaska</td>\n",
       "      <td>AdultWeekday</td>\n",
       "      <td>65.0</td>\n",
       "    </tr>\n",
       "    <tr>\n",
       "      <th>1</th>\n",
       "      <td>Alaska</td>\n",
       "      <td>AdultWeekday</td>\n",
       "      <td>47.0</td>\n",
       "    </tr>\n",
       "    <tr>\n",
       "      <th>2</th>\n",
       "      <td>Alaska</td>\n",
       "      <td>AdultWeekday</td>\n",
       "      <td>30.0</td>\n",
       "    </tr>\n",
       "    <tr>\n",
       "      <th>3</th>\n",
       "      <td>Arizona</td>\n",
       "      <td>AdultWeekday</td>\n",
       "      <td>89.0</td>\n",
       "    </tr>\n",
       "    <tr>\n",
       "      <th>4</th>\n",
       "      <td>Arizona</td>\n",
       "      <td>AdultWeekday</td>\n",
       "      <td>74.0</td>\n",
       "    </tr>\n",
       "  </tbody>\n",
       "</table>\n",
       "</div>"
      ],
      "text/plain": [
       "     state        Ticket  Price\n",
       "0   Alaska  AdultWeekday   65.0\n",
       "1   Alaska  AdultWeekday   47.0\n",
       "2   Alaska  AdultWeekday   30.0\n",
       "3  Arizona  AdultWeekday   89.0\n",
       "4  Arizona  AdultWeekday   74.0"
      ]
     },
     "execution_count": 60,
     "metadata": {},
     "output_type": "execute_result"
    }
   ],
   "source": [
    "ticket_prices.head()"
   ]
  },
  {
   "cell_type": "markdown",
   "metadata": {},
   "source": [
    "This is now in a format we can pass to [seaborn](https://seaborn.pydata.org/)'s [boxplot](https://seaborn.pydata.org/generated/seaborn.boxplot.html) function to create boxplots of the ticket price distributions for each ticket type for each state."
   ]
  },
  {
   "cell_type": "code",
   "execution_count": 61,
   "metadata": {},
   "outputs": [
    {
     "data": {
      "image/png": "[encoded data removed]",
      "text/plain": [
       "<Figure size 864x576 with 1 Axes>"
      ]
     },
     "metadata": {
      "needs_background": "light"
     },
     "output_type": "display_data"
    }
   ],
   "source": [
    "#Code task 16#\n",
    "#Create a seaborn boxplot of the ticket price dataframe we created above,\n",
    "#with 'state' on the x-axis, 'Price' as the y-value, and a hue that indicates 'Ticket'\n",
    "#This will use boxplot's x, y, hue, and data arguments.\n",
    "plt.subplots(figsize=(12, 8))\n",
    "sns.boxplot(x='state', y='Price', hue='Ticket', data=ticket_prices)\n",
    "plt.xticks(rotation='vertical')\n",
    "plt.ylabel('Price ($)')\n",
    "plt.xlabel('State');"
   ]
  },
  {
   "cell_type": "markdown",
   "metadata": {},
   "source": [
    "Aside from some relatively expensive ticket prices in California, Colorado, and Utah, most prices appear to lie in a broad band from around 25 to over 100 dollars. Some States show more variability than others. Montana and South Dakota, for example, both show fairly small variability as well as matching weekend and weekday ticket prices. Nevada and Utah, on the other hand, show the most range in prices. Some States, notably North Carolina and Virginia, have weekend prices far higher than weekday prices. You could be inspired from this exploration to consider a few potential groupings of resorts, those with low spread, those with lower averages, and those that charge a premium for weekend tickets. However, you're told that you are taking all resorts to be part of the same market share, you  could argue against further segment the resorts. Nevertheless, ways to consider using the State information in your modelling include:\n",
    "\n",
    "* disregard State completely\n",
    "* retain all State information\n",
    "* retain State in the form of Montana vs not Montana, as our target resort is in Montana\n",
    "\n",
    "You've also noted another effect above: some States show a marked difference between weekday and weekend ticket prices. It may make sense to allow a model to take into account not just State but also weekend vs weekday."
   ]
  },
  {
   "cell_type": "markdown",
   "metadata": {},
   "source": [
    "Thus we currently have two main questions you want to resolve:\n",
    "\n",
    "* What do you do about the two types of ticket price?\n",
    "* What do you do about the state information?"
   ]
  },
  {
   "cell_type": "markdown",
   "metadata": {},
   "source": [
    "### 2.6.4 Numeric Features<a id='2.6.4_Numeric_Features'></a>"
   ]
  },
  {
   "cell_type": "code",
   "execution_count": null,
   "metadata": {},
   "outputs": [],
   "source": [
    "Having decided to reserve judgement on how exactly you utilize the State, turn your attention to cleaning the numeric features."
   ]
  },
  {
   "cell_type": "markdown",
   "metadata": {},
   "source": [
    "#### 2.6.4.1 Numeric data summary<a id='2.6.4.1_Numeric_data_summary'></a>"
   ]
  },
  {
   "cell_type": "code",
   "execution_count": 62,
   "metadata": {},
   "outputs": [
    {
     "data": {
      "text/html": [
       "<div>\n",
       "<style scoped>\n",
       "    .dataframe tbody tr th:only-of-type {\n",
       "        vertical-align: middle;\n",
       "    }\n",
       "\n",
       "    .dataframe tbody tr th {\n",
       "        vertical-align: top;\n",
       "    }\n",
       "\n",
       "    .dataframe thead th {\n",
       "        text-align: right;\n",
       "    }\n",
       "</style>\n",
       "<table border=\"1\" class=\"dataframe\">\n",
       "  <thead>\n",
       "    <tr style=\"text-align: right;\">\n",
       "      <th></th>\n",
       "      <th>count</th>\n",
       "      <th>mean</th>\n",
       "      <th>std</th>\n",
       "      <th>min</th>\n",
       "      <th>25%</th>\n",
       "      <th>50%</th>\n",
       "      <th>75%</th>\n",
       "      <th>max</th>\n",
       "    </tr>\n",
       "  </thead>\n",
       "  <tbody>\n",
       "    <tr>\n",
       "      <th>summit_elev</th>\n",
       "      <td>330.0</td>\n",
       "      <td>4591.818182</td>\n",
       "      <td>3735.535934</td>\n",
       "      <td>315.0</td>\n",
       "      <td>1403.75</td>\n",
       "      <td>3127.5</td>\n",
       "      <td>7806.00</td>\n",
       "      <td>13487.0</td>\n",
       "    </tr>\n",
       "    <tr>\n",
       "      <th>vertical_drop</th>\n",
       "      <td>330.0</td>\n",
       "      <td>1215.427273</td>\n",
       "      <td>947.864557</td>\n",
       "      <td>60.0</td>\n",
       "      <td>461.25</td>\n",
       "      <td>964.5</td>\n",
       "      <td>1800.00</td>\n",
       "      <td>4425.0</td>\n",
       "    </tr>\n",
       "    <tr>\n",
       "      <th>base_elev</th>\n",
       "      <td>330.0</td>\n",
       "      <td>3374.000000</td>\n",
       "      <td>3117.121621</td>\n",
       "      <td>70.0</td>\n",
       "      <td>869.00</td>\n",
       "      <td>1561.5</td>\n",
       "      <td>6325.25</td>\n",
       "      <td>10800.0</td>\n",
       "    </tr>\n",
       "    <tr>\n",
       "      <th>trams</th>\n",
       "      <td>330.0</td>\n",
       "      <td>0.172727</td>\n",
       "      <td>0.559946</td>\n",
       "      <td>0.0</td>\n",
       "      <td>0.00</td>\n",
       "      <td>0.0</td>\n",
       "      <td>0.00</td>\n",
       "      <td>4.0</td>\n",
       "    </tr>\n",
       "    <tr>\n",
       "      <th>fastEight</th>\n",
       "      <td>164.0</td>\n",
       "      <td>0.006098</td>\n",
       "      <td>0.078087</td>\n",
       "      <td>0.0</td>\n",
       "      <td>0.00</td>\n",
       "      <td>0.0</td>\n",
       "      <td>0.00</td>\n",
       "      <td>1.0</td>\n",
       "    </tr>\n",
       "    <tr>\n",
       "      <th>fastSixes</th>\n",
       "      <td>330.0</td>\n",
       "      <td>0.184848</td>\n",
       "      <td>0.651685</td>\n",
       "      <td>0.0</td>\n",
       "      <td>0.00</td>\n",
       "      <td>0.0</td>\n",
       "      <td>0.00</td>\n",
       "      <td>6.0</td>\n",
       "    </tr>\n",
       "    <tr>\n",
       "      <th>fastQuads</th>\n",
       "      <td>330.0</td>\n",
       "      <td>1.018182</td>\n",
       "      <td>2.198294</td>\n",
       "      <td>0.0</td>\n",
       "      <td>0.00</td>\n",
       "      <td>0.0</td>\n",
       "      <td>1.00</td>\n",
       "      <td>15.0</td>\n",
       "    </tr>\n",
       "    <tr>\n",
       "      <th>quad</th>\n",
       "      <td>330.0</td>\n",
       "      <td>0.933333</td>\n",
       "      <td>1.312245</td>\n",
       "      <td>0.0</td>\n",
       "      <td>0.00</td>\n",
       "      <td>0.0</td>\n",
       "      <td>1.00</td>\n",
       "      <td>8.0</td>\n",
       "    </tr>\n",
       "    <tr>\n",
       "      <th>triple</th>\n",
       "      <td>330.0</td>\n",
       "      <td>1.500000</td>\n",
       "      <td>1.619130</td>\n",
       "      <td>0.0</td>\n",
       "      <td>0.00</td>\n",
       "      <td>1.0</td>\n",
       "      <td>2.00</td>\n",
       "      <td>8.0</td>\n",
       "    </tr>\n",
       "    <tr>\n",
       "      <th>double</th>\n",
       "      <td>330.0</td>\n",
       "      <td>1.833333</td>\n",
       "      <td>1.815028</td>\n",
       "      <td>0.0</td>\n",
       "      <td>1.00</td>\n",
       "      <td>1.0</td>\n",
       "      <td>3.00</td>\n",
       "      <td>14.0</td>\n",
       "    </tr>\n",
       "    <tr>\n",
       "      <th>surface</th>\n",
       "      <td>330.0</td>\n",
       "      <td>2.621212</td>\n",
       "      <td>2.059636</td>\n",
       "      <td>0.0</td>\n",
       "      <td>1.00</td>\n",
       "      <td>2.0</td>\n",
       "      <td>3.00</td>\n",
       "      <td>15.0</td>\n",
       "    </tr>\n",
       "    <tr>\n",
       "      <th>total_chairs</th>\n",
       "      <td>330.0</td>\n",
       "      <td>8.266667</td>\n",
       "      <td>5.798683</td>\n",
       "      <td>0.0</td>\n",
       "      <td>5.00</td>\n",
       "      <td>7.0</td>\n",
       "      <td>10.00</td>\n",
       "      <td>41.0</td>\n",
       "    </tr>\n",
       "    <tr>\n",
       "      <th>Runs</th>\n",
       "      <td>326.0</td>\n",
       "      <td>48.214724</td>\n",
       "      <td>46.364077</td>\n",
       "      <td>3.0</td>\n",
       "      <td>19.00</td>\n",
       "      <td>33.0</td>\n",
       "      <td>60.00</td>\n",
       "      <td>341.0</td>\n",
       "    </tr>\n",
       "    <tr>\n",
       "      <th>TerrainParks</th>\n",
       "      <td>279.0</td>\n",
       "      <td>2.820789</td>\n",
       "      <td>2.008113</td>\n",
       "      <td>1.0</td>\n",
       "      <td>1.00</td>\n",
       "      <td>2.0</td>\n",
       "      <td>4.00</td>\n",
       "      <td>14.0</td>\n",
       "    </tr>\n",
       "    <tr>\n",
       "      <th>LongestRun_mi</th>\n",
       "      <td>325.0</td>\n",
       "      <td>1.433231</td>\n",
       "      <td>1.156171</td>\n",
       "      <td>0.0</td>\n",
       "      <td>0.50</td>\n",
       "      <td>1.0</td>\n",
       "      <td>2.00</td>\n",
       "      <td>6.0</td>\n",
       "    </tr>\n",
       "    <tr>\n",
       "      <th>SkiableTerrain_ac</th>\n",
       "      <td>327.0</td>\n",
       "      <td>739.801223</td>\n",
       "      <td>1816.167441</td>\n",
       "      <td>8.0</td>\n",
       "      <td>85.00</td>\n",
       "      <td>200.0</td>\n",
       "      <td>690.00</td>\n",
       "      <td>26819.0</td>\n",
       "    </tr>\n",
       "    <tr>\n",
       "      <th>Snow Making_ac</th>\n",
       "      <td>284.0</td>\n",
       "      <td>174.873239</td>\n",
       "      <td>261.336125</td>\n",
       "      <td>2.0</td>\n",
       "      <td>50.00</td>\n",
       "      <td>100.0</td>\n",
       "      <td>200.50</td>\n",
       "      <td>3379.0</td>\n",
       "    </tr>\n",
       "    <tr>\n",
       "      <th>daysOpenLastYear</th>\n",
       "      <td>279.0</td>\n",
       "      <td>115.103943</td>\n",
       "      <td>35.063251</td>\n",
       "      <td>3.0</td>\n",
       "      <td>97.00</td>\n",
       "      <td>114.0</td>\n",
       "      <td>135.00</td>\n",
       "      <td>305.0</td>\n",
       "    </tr>\n",
       "    <tr>\n",
       "      <th>yearsOpen</th>\n",
       "      <td>329.0</td>\n",
       "      <td>63.656535</td>\n",
       "      <td>109.429928</td>\n",
       "      <td>6.0</td>\n",
       "      <td>50.00</td>\n",
       "      <td>58.0</td>\n",
       "      <td>69.00</td>\n",
       "      <td>2019.0</td>\n",
       "    </tr>\n",
       "    <tr>\n",
       "      <th>averageSnowfall</th>\n",
       "      <td>316.0</td>\n",
       "      <td>185.316456</td>\n",
       "      <td>136.356842</td>\n",
       "      <td>18.0</td>\n",
       "      <td>69.00</td>\n",
       "      <td>150.0</td>\n",
       "      <td>300.00</td>\n",
       "      <td>669.0</td>\n",
       "    </tr>\n",
       "    <tr>\n",
       "      <th>AdultWeekday</th>\n",
       "      <td>276.0</td>\n",
       "      <td>57.916957</td>\n",
       "      <td>26.140126</td>\n",
       "      <td>15.0</td>\n",
       "      <td>40.00</td>\n",
       "      <td>50.0</td>\n",
       "      <td>71.00</td>\n",
       "      <td>179.0</td>\n",
       "    </tr>\n",
       "    <tr>\n",
       "      <th>AdultWeekend</th>\n",
       "      <td>279.0</td>\n",
       "      <td>64.166810</td>\n",
       "      <td>24.554584</td>\n",
       "      <td>17.0</td>\n",
       "      <td>47.00</td>\n",
       "      <td>60.0</td>\n",
       "      <td>77.50</td>\n",
       "      <td>179.0</td>\n",
       "    </tr>\n",
       "    <tr>\n",
       "      <th>projectedDaysOpen</th>\n",
       "      <td>283.0</td>\n",
       "      <td>120.053004</td>\n",
       "      <td>31.045963</td>\n",
       "      <td>30.0</td>\n",
       "      <td>100.00</td>\n",
       "      <td>120.0</td>\n",
       "      <td>139.50</td>\n",
       "      <td>305.0</td>\n",
       "    </tr>\n",
       "    <tr>\n",
       "      <th>NightSkiing_ac</th>\n",
       "      <td>187.0</td>\n",
       "      <td>100.395722</td>\n",
       "      <td>105.169620</td>\n",
       "      <td>2.0</td>\n",
       "      <td>40.00</td>\n",
       "      <td>72.0</td>\n",
       "      <td>114.00</td>\n",
       "      <td>650.0</td>\n",
       "    </tr>\n",
       "  </tbody>\n",
       "</table>\n",
       "</div>"
      ],
      "text/plain": [
       "                   count         mean          std    min      25%     50%  \\\n",
       "summit_elev        330.0  4591.818182  3735.535934  315.0  1403.75  3127.5   \n",
       "vertical_drop      330.0  1215.427273   947.864557   60.0   461.25   964.5   \n",
       "base_elev          330.0  3374.000000  3117.121621   70.0   869.00  1561.5   \n",
       "trams              330.0     0.172727     0.559946    0.0     0.00     0.0   \n",
       "fastEight          164.0     0.006098     0.078087    0.0     0.00     0.0   \n",
       "fastSixes          330.0     0.184848     0.651685    0.0     0.00     0.0   \n",
       "fastQuads          330.0     1.018182     2.198294    0.0     0.00     0.0   \n",
       "quad               330.0     0.933333     1.312245    0.0     0.00     0.0   \n",
       "triple             330.0     1.500000     1.619130    0.0     0.00     1.0   \n",
       "double             330.0     1.833333     1.815028    0.0     1.00     1.0   \n",
       "surface            330.0     2.621212     2.059636    0.0     1.00     2.0   \n",
       "total_chairs       330.0     8.266667     5.798683    0.0     5.00     7.0   \n",
       "Runs               326.0    48.214724    46.364077    3.0    19.00    33.0   \n",
       "TerrainParks       279.0     2.820789     2.008113    1.0     1.00     2.0   \n",
       "LongestRun_mi      325.0     1.433231     1.156171    0.0     0.50     1.0   \n",
       "SkiableTerrain_ac  327.0   739.801223  1816.167441    8.0    85.00   200.0   \n",
       "Snow Making_ac     284.0   174.873239   261.336125    2.0    50.00   100.0   \n",
       "daysOpenLastYear   279.0   115.103943    35.063251    3.0    97.00   114.0   \n",
       "yearsOpen          329.0    63.656535   109.429928    6.0    50.00    58.0   \n",
       "averageSnowfall    316.0   185.316456   136.356842   18.0    69.00   150.0   \n",
       "AdultWeekday       276.0    57.916957    26.140126   15.0    40.00    50.0   \n",
       "AdultWeekend       279.0    64.166810    24.554584   17.0    47.00    60.0   \n",
       "projectedDaysOpen  283.0   120.053004    31.045963   30.0   100.00   120.0   \n",
       "NightSkiing_ac     187.0   100.395722   105.169620    2.0    40.00    72.0   \n",
       "\n",
       "                       75%      max  \n",
       "summit_elev        7806.00  13487.0  \n",
       "vertical_drop      1800.00   4425.0  \n",
       "base_elev          6325.25  10800.0  \n",
       "trams                 0.00      4.0  \n",
       "fastEight             0.00      1.0  \n",
       "fastSixes             0.00      6.0  \n",
       "fastQuads             1.00     15.0  \n",
       "quad                  1.00      8.0  \n",
       "triple                2.00      8.0  \n",
       "double                3.00     14.0  \n",
       "surface               3.00     15.0  \n",
       "total_chairs         10.00     41.0  \n",
       "Runs                 60.00    341.0  \n",
       "TerrainParks          4.00     14.0  \n",
       "LongestRun_mi         2.00      6.0  \n",
       "SkiableTerrain_ac   690.00  26819.0  \n",
       "Snow Making_ac      200.50   3379.0  \n",
       "daysOpenLastYear    135.00    305.0  \n",
       "yearsOpen            69.00   2019.0  \n",
       "averageSnowfall     300.00    669.0  \n",
       "AdultWeekday         71.00    179.0  \n",
       "AdultWeekend         77.50    179.0  \n",
       "projectedDaysOpen   139.50    305.0  \n",
       "NightSkiing_ac      114.00    650.0  "
      ]
     },
     "execution_count": 62,
     "metadata": {},
     "output_type": "execute_result"
    }
   ],
   "source": [
    "#Code task 17#\n",
    "#Call ski_data's `describe` method for a statistical summary of the numerical columns\n",
    "#Hint: there are fewer summary stat columns than features, so displaying the transpose\n",
    "#will be useful again\n",
    "ski_data.describe().T"
   ]
  },
  {
   "cell_type": "markdown",
   "metadata": {},
   "source": [
    "Recall you're missing the ticket prices for some 16% of resorts. This is a fundamental problem that means you simply lack the required data for those resorts and will have to drop those records. But you may have a weekend price and not a weekday price, or vice versa. You want to keep any price you have."
   ]
  },
  {
   "cell_type": "code",
   "execution_count": 69,
   "metadata": {},
   "outputs": [
    {
     "data": {
      "text/plain": [
       "0    82.424242\n",
       "2    14.242424\n",
       "1     3.333333\n",
       "dtype: float64"
      ]
     },
     "execution_count": 69,
     "metadata": {},
     "output_type": "execute_result"
    }
   ],
   "source": [
    "missing_price = ski_data[['AdultWeekend', 'AdultWeekday']].isnull().sum(axis=1)\n",
    "missing_price.value_counts()/len(missing_price) * 100"
   ]
  },
  {
   "cell_type": "markdown",
   "metadata": {},
   "source": [
    "Just over 82% of resorts have no missing ticket price, 3% are missing one value, and 14% are missing both. You will definitely want to drop the records for which you have no price information, however you will not do so just yet. There may still be useful information about the distributions of other features in that 14% of the data."
   ]
  },
  {
   "cell_type": "markdown",
   "metadata": {},
   "source": [
    "#### 2.6.4.2 Distributions Of Feature Values<a id='2.6.4.2_Distributions_Of_Feature_Values'></a>"
   ]
  },
  {
   "cell_type": "markdown",
   "metadata": {},
   "source": [
    "Note that, although we are still in the 'data wrangling and cleaning' phase rather than exploratory data analysis, looking at distributions of features is immensely useful in getting a feel for whether the values look sensible and whether there are any obvious outliers to investigate. Some exploratory data analysis belongs here, and data wrangling will inevitably occur later on. It's more a matter of emphasis. Here, we're interesting in focusing on whether distributions look plausible or wrong. Later on, we're more interested in relationships and patterns."
   ]
  },
  {
   "cell_type": "code",
   "execution_count": 79,
   "metadata": {},
   "outputs": [
    {
     "data": {
      "image/png": "[encoded data removed]",
      "text/plain": [
       "<Figure size 1080x720 with 25 Axes>"
      ]
     },
     "metadata": {
      "needs_background": "light"
     },
     "output_type": "display_data"
    }
   ],
   "source": [
    "#Code task 18#\n",
    "#Call ski_data's `hist` method to plot histograms of each of the numeric features\n",
    "#Try passing it an argument figsize=(15,10)\n",
    "#Try calling plt.subplots_adjust() with an argument hspace=0.5 to adjust the spacing\n",
    "#It's important you create legible and easy-to-read plots\n",
    "#plt.subplots_adjust(hspace=___);\n",
    "#Hint: notice how the terminating ';' \"swallows\" some messy output and leads to a tidier notebook #what the 'hint' means?\n",
    "\n",
    "ski_data.hist(figsize=(15, 10))\n",
    "plt.subplots_adjust(hspace=0.5)\n"
   ]
  },
  {
   "cell_type": "markdown",
   "metadata": {},
   "source": [
    "What features do we have possible cause for concern about and why?\n",
    "\n",
    "* SkiableTerrain_ac because values are clustered down the low end,\n",
    "* Snow Making_ac for the same reason,\n",
    "* fastEight because all but one value is 0 so it has very little variance, and half the values are missing,\n",
    "* fastSixes raises an amber flag; it has more variability, but still mostly 0,\n",
    "* trams also may get an amber flag for the same reason,\n",
    "* yearsOpen because most values are low but it has a maximum of 2019, which strongly suggests someone recorded calendar year rather than number of years."
   ]
  },
  {
   "cell_type": "markdown",
   "metadata": {},
   "source": [
    "##### 2.6.4.2.1 SkiableTerrain_ac<a id='2.6.4.2.1_SkiableTerrain_ac'></a>"
   ]
  },
  {
   "cell_type": "code",
   "execution_count": 80,
   "metadata": {},
   "outputs": [
    {
     "data": {
      "text/plain": [
       "39    26819.0\n",
       "Name: SkiableTerrain_ac, dtype: float64"
      ]
     },
     "execution_count": 80,
     "metadata": {},
     "output_type": "execute_result"
    }
   ],
   "source": [
    "#Code task 19#\n",
    "#Filter the 'SkiableTerrain_ac' column to print the values greater than 10000\n",
    "ski_data.SkiableTerrain_ac[ski_data.SkiableTerrain_ac > 10000]"
   ]
  },
  {
   "cell_type": "markdown",
   "metadata": {},
   "source": [
    "**Q: 2** One resort has an incredibly large skiable terrain area! Which is it?"
   ]
  },
  {
   "cell_type": "code",
   "execution_count": 82,
   "metadata": {},
   "outputs": [
    {
     "data": {
      "text/html": [
       "<div>\n",
       "<style scoped>\n",
       "    .dataframe tbody tr th:only-of-type {\n",
       "        vertical-align: middle;\n",
       "    }\n",
       "\n",
       "    .dataframe tbody tr th {\n",
       "        vertical-align: top;\n",
       "    }\n",
       "\n",
       "    .dataframe thead th {\n",
       "        text-align: right;\n",
       "    }\n",
       "</style>\n",
       "<table border=\"1\" class=\"dataframe\">\n",
       "  <thead>\n",
       "    <tr style=\"text-align: right;\">\n",
       "      <th></th>\n",
       "      <th>39</th>\n",
       "    </tr>\n",
       "  </thead>\n",
       "  <tbody>\n",
       "    <tr>\n",
       "      <th>Name</th>\n",
       "      <td>Silverton Mountain</td>\n",
       "    </tr>\n",
       "    <tr>\n",
       "      <th>Region</th>\n",
       "      <td>Colorado</td>\n",
       "    </tr>\n",
       "    <tr>\n",
       "      <th>state</th>\n",
       "      <td>Colorado</td>\n",
       "    </tr>\n",
       "    <tr>\n",
       "      <th>summit_elev</th>\n",
       "      <td>13487</td>\n",
       "    </tr>\n",
       "    <tr>\n",
       "      <th>vertical_drop</th>\n",
       "      <td>3087</td>\n",
       "    </tr>\n",
       "    <tr>\n",
       "      <th>base_elev</th>\n",
       "      <td>10400</td>\n",
       "    </tr>\n",
       "    <tr>\n",
       "      <th>trams</th>\n",
       "      <td>0</td>\n",
       "    </tr>\n",
       "    <tr>\n",
       "      <th>fastEight</th>\n",
       "      <td>0</td>\n",
       "    </tr>\n",
       "    <tr>\n",
       "      <th>fastSixes</th>\n",
       "      <td>0</td>\n",
       "    </tr>\n",
       "    <tr>\n",
       "      <th>fastQuads</th>\n",
       "      <td>0</td>\n",
       "    </tr>\n",
       "    <tr>\n",
       "      <th>quad</th>\n",
       "      <td>0</td>\n",
       "    </tr>\n",
       "    <tr>\n",
       "      <th>triple</th>\n",
       "      <td>0</td>\n",
       "    </tr>\n",
       "    <tr>\n",
       "      <th>double</th>\n",
       "      <td>1</td>\n",
       "    </tr>\n",
       "    <tr>\n",
       "      <th>surface</th>\n",
       "      <td>0</td>\n",
       "    </tr>\n",
       "    <tr>\n",
       "      <th>total_chairs</th>\n",
       "      <td>1</td>\n",
       "    </tr>\n",
       "    <tr>\n",
       "      <th>Runs</th>\n",
       "      <td>NaN</td>\n",
       "    </tr>\n",
       "    <tr>\n",
       "      <th>TerrainParks</th>\n",
       "      <td>NaN</td>\n",
       "    </tr>\n",
       "    <tr>\n",
       "      <th>LongestRun_mi</th>\n",
       "      <td>1.5</td>\n",
       "    </tr>\n",
       "    <tr>\n",
       "      <th>SkiableTerrain_ac</th>\n",
       "      <td>26819</td>\n",
       "    </tr>\n",
       "    <tr>\n",
       "      <th>Snow Making_ac</th>\n",
       "      <td>NaN</td>\n",
       "    </tr>\n",
       "    <tr>\n",
       "      <th>daysOpenLastYear</th>\n",
       "      <td>175</td>\n",
       "    </tr>\n",
       "    <tr>\n",
       "      <th>yearsOpen</th>\n",
       "      <td>17</td>\n",
       "    </tr>\n",
       "    <tr>\n",
       "      <th>averageSnowfall</th>\n",
       "      <td>400</td>\n",
       "    </tr>\n",
       "    <tr>\n",
       "      <th>AdultWeekday</th>\n",
       "      <td>79</td>\n",
       "    </tr>\n",
       "    <tr>\n",
       "      <th>AdultWeekend</th>\n",
       "      <td>79</td>\n",
       "    </tr>\n",
       "    <tr>\n",
       "      <th>projectedDaysOpen</th>\n",
       "      <td>181</td>\n",
       "    </tr>\n",
       "    <tr>\n",
       "      <th>NightSkiing_ac</th>\n",
       "      <td>NaN</td>\n",
       "    </tr>\n",
       "  </tbody>\n",
       "</table>\n",
       "</div>"
      ],
      "text/plain": [
       "                                   39\n",
       "Name               Silverton Mountain\n",
       "Region                       Colorado\n",
       "state                        Colorado\n",
       "summit_elev                     13487\n",
       "vertical_drop                    3087\n",
       "base_elev                       10400\n",
       "trams                               0\n",
       "fastEight                           0\n",
       "fastSixes                           0\n",
       "fastQuads                           0\n",
       "quad                                0\n",
       "triple                              0\n",
       "double                              1\n",
       "surface                             0\n",
       "total_chairs                        1\n",
       "Runs                              NaN\n",
       "TerrainParks                      NaN\n",
       "LongestRun_mi                     1.5\n",
       "SkiableTerrain_ac               26819\n",
       "Snow Making_ac                    NaN\n",
       "daysOpenLastYear                  175\n",
       "yearsOpen                          17\n",
       "averageSnowfall                   400\n",
       "AdultWeekday                       79\n",
       "AdultWeekend                       79\n",
       "projectedDaysOpen                 181\n",
       "NightSkiing_ac                    NaN"
      ]
     },
     "execution_count": 82,
     "metadata": {},
     "output_type": "execute_result"
    }
   ],
   "source": [
    "#Code task 20#\n",
    "#Now you know there's only one, print the whole row to investigate all values, including seeing the resort name\n",
    "#Hint: don't forget the transpose will be helpful here\n",
    "ski_data[ski_data.SkiableTerrain_ac > 10000].T"
   ]
  },
  {
   "cell_type": "markdown",
   "metadata": {},
   "source": [
    "**A: 2** Your answer here"
   ]
  },
  {
   "cell_type": "markdown",
   "metadata": {},
   "source": [
    "But what can you do when you have one record that seems highly suspicious?"
   ]
  },
  {
   "cell_type": "markdown",
   "metadata": {},
   "source": [
    "You can see if your data are correct. Search for \"silverton mountain skiable area\". If you do this, you get some [useful information](https://www.google.com/search?q=silverton+mountain+skiable+area)."
   ]
  },
  {
   "cell_type": "markdown",
   "metadata": {},
   "source": [
    "![Silverton Mountain information](images/silverton_mountain_info.png)"
   ]
  },
  {
   "cell_type": "markdown",
   "metadata": {},
   "source": [
    "You can spot check data. You see your top and base elevation values agree, but the skiable area is very different. Your suspect value is 26819, but the value you've just looked up is 1819. The last three digits agree. This sort of error could have occured in transmission or some editing or transcription stage. You could plausibly replace the suspect value with the one you've just obtained. Another cautionary note to make here is that although you're doing this in order to progress with your analysis, this is most definitely an issue that should have been raised and fed back to the client or data originator as a query. You should view this \"data correction\" step as a means to continue (documenting it carefully as you do in this notebook) rather than an ultimate decision as to what is correct."
   ]
  },
  {
   "cell_type": "code",
   "execution_count": 83,
   "metadata": {},
   "outputs": [
    {
     "data": {
      "text/plain": [
       "26819.0"
      ]
     },
     "execution_count": 83,
     "metadata": {},
     "output_type": "execute_result"
    }
   ],
   "source": [
    "#Code task 21#\n",
    "#Use the .loc accessor to print the 'SkiableTerrain_ac' value only for this resort\n",
    "ski_data.loc[39, 'SkiableTerrain_ac']"
   ]
  },
  {
   "cell_type": "code",
   "execution_count": 84,
   "metadata": {},
   "outputs": [],
   "source": [
    "#Code task 22#\n",
    "#Use the .loc accessor again to modify this value with the correct value of 1819\n",
    "ski_data.loc[39, 'SkiableTerrain_ac'] = 1819"
   ]
  },
  {
   "cell_type": "code",
   "execution_count": 85,
   "metadata": {},
   "outputs": [
    {
     "data": {
      "text/plain": [
       "1819.0"
      ]
     },
     "execution_count": 85,
     "metadata": {},
     "output_type": "execute_result"
    }
   ],
   "source": [
    "#Code task 23#\n",
    "#Use the .loc accessor a final time to verify that the value has been modified\n",
    "ski_data.loc[39, 'SkiableTerrain_ac']"
   ]
  },
  {
   "cell_type": "markdown",
   "metadata": {},
   "source": [
    "**NB whilst you may become suspicious about your data quality, and you know you have missing values, you will not here dive down the rabbit hole of checking all values or web scraping to replace missing values.**"
   ]
  },
  {
   "cell_type": "markdown",
   "metadata": {},
   "source": [
    "What does the distribution of skiable area look like now?"
   ]
  },
  {
   "cell_type": "code",
   "execution_count": 88,
   "metadata": {},
   "outputs": [
    {
     "data": {
      "image/png": "[encoded data removed]",
      "text/plain": [
       "<Figure size 432x288 with 1 Axes>"
      ]
     },
     "metadata": {
      "needs_background": "light"
     },
     "output_type": "display_data"
    }
   ],
   "source": [
    "ski_data.SkiableTerrain_ac.hist(bins=30)\n",
    "plt.xlabel('SkiableTerrain_ac')\n",
    "plt.ylabel('Count')\n",
    "plt.title('Distribution of skiable area (acres) after replacing erroneous value');"
   ]
  },
  {
   "cell_type": "markdown",
   "metadata": {},
   "source": [
    "You now see a rather long tailed distribution. You may wonder about the now most extreme value that is above 8000, but similarly you may also wonder about the value around 7000. If you wanted to spend more time manually checking values you could, but leave this for now. The above distribution is plausible."
   ]
  },
  {
   "cell_type": "markdown",
   "metadata": {},
   "source": [
    "##### 2.6.4.2.2 Snow Making_ac<a id='2.6.4.2.2_Snow_Making_ac'></a>"
   ]
  },
  {
   "cell_type": "code",
   "execution_count": 97,
   "metadata": {},
   "outputs": [
    {
     "data": {
      "text/plain": [
       "11    3379.0\n",
       "18    1500.0\n",
       "Name: Snow Making_ac, dtype: float64"
      ]
     },
     "execution_count": 97,
     "metadata": {},
     "output_type": "execute_result"
    }
   ],
   "source": [
    "ski_data['Snow Making_ac'][ski_data['Snow Making_ac'] > 1000]\n",
    "#ski_data.yearsOpen[ski_data.yearsOpen > 100]"
   ]
  },
  {
   "cell_type": "code",
   "execution_count": 90,
   "metadata": {},
   "outputs": [
    {
     "data": {
      "text/html": [
       "<div>\n",
       "<style scoped>\n",
       "    .dataframe tbody tr th:only-of-type {\n",
       "        vertical-align: middle;\n",
       "    }\n",
       "\n",
       "    .dataframe tbody tr th {\n",
       "        vertical-align: top;\n",
       "    }\n",
       "\n",
       "    .dataframe thead th {\n",
       "        text-align: right;\n",
       "    }\n",
       "</style>\n",
       "<table border=\"1\" class=\"dataframe\">\n",
       "  <thead>\n",
       "    <tr style=\"text-align: right;\">\n",
       "      <th></th>\n",
       "      <th>11</th>\n",
       "    </tr>\n",
       "  </thead>\n",
       "  <tbody>\n",
       "    <tr>\n",
       "      <th>Name</th>\n",
       "      <td>Heavenly Mountain Resort</td>\n",
       "    </tr>\n",
       "    <tr>\n",
       "      <th>Region</th>\n",
       "      <td>Sierra Nevada</td>\n",
       "    </tr>\n",
       "    <tr>\n",
       "      <th>state</th>\n",
       "      <td>California</td>\n",
       "    </tr>\n",
       "    <tr>\n",
       "      <th>summit_elev</th>\n",
       "      <td>10067</td>\n",
       "    </tr>\n",
       "    <tr>\n",
       "      <th>vertical_drop</th>\n",
       "      <td>3500</td>\n",
       "    </tr>\n",
       "    <tr>\n",
       "      <th>base_elev</th>\n",
       "      <td>7170</td>\n",
       "    </tr>\n",
       "    <tr>\n",
       "      <th>trams</th>\n",
       "      <td>2</td>\n",
       "    </tr>\n",
       "    <tr>\n",
       "      <th>fastEight</th>\n",
       "      <td>0</td>\n",
       "    </tr>\n",
       "    <tr>\n",
       "      <th>fastSixes</th>\n",
       "      <td>2</td>\n",
       "    </tr>\n",
       "    <tr>\n",
       "      <th>fastQuads</th>\n",
       "      <td>7</td>\n",
       "    </tr>\n",
       "    <tr>\n",
       "      <th>quad</th>\n",
       "      <td>1</td>\n",
       "    </tr>\n",
       "    <tr>\n",
       "      <th>triple</th>\n",
       "      <td>5</td>\n",
       "    </tr>\n",
       "    <tr>\n",
       "      <th>double</th>\n",
       "      <td>3</td>\n",
       "    </tr>\n",
       "    <tr>\n",
       "      <th>surface</th>\n",
       "      <td>8</td>\n",
       "    </tr>\n",
       "    <tr>\n",
       "      <th>total_chairs</th>\n",
       "      <td>28</td>\n",
       "    </tr>\n",
       "    <tr>\n",
       "      <th>Runs</th>\n",
       "      <td>97</td>\n",
       "    </tr>\n",
       "    <tr>\n",
       "      <th>TerrainParks</th>\n",
       "      <td>3</td>\n",
       "    </tr>\n",
       "    <tr>\n",
       "      <th>LongestRun_mi</th>\n",
       "      <td>5.5</td>\n",
       "    </tr>\n",
       "    <tr>\n",
       "      <th>SkiableTerrain_ac</th>\n",
       "      <td>4800</td>\n",
       "    </tr>\n",
       "    <tr>\n",
       "      <th>Snow Making_ac</th>\n",
       "      <td>3379</td>\n",
       "    </tr>\n",
       "    <tr>\n",
       "      <th>daysOpenLastYear</th>\n",
       "      <td>155</td>\n",
       "    </tr>\n",
       "    <tr>\n",
       "      <th>yearsOpen</th>\n",
       "      <td>64</td>\n",
       "    </tr>\n",
       "    <tr>\n",
       "      <th>averageSnowfall</th>\n",
       "      <td>360</td>\n",
       "    </tr>\n",
       "    <tr>\n",
       "      <th>AdultWeekday</th>\n",
       "      <td>NaN</td>\n",
       "    </tr>\n",
       "    <tr>\n",
       "      <th>AdultWeekend</th>\n",
       "      <td>NaN</td>\n",
       "    </tr>\n",
       "    <tr>\n",
       "      <th>projectedDaysOpen</th>\n",
       "      <td>157</td>\n",
       "    </tr>\n",
       "    <tr>\n",
       "      <th>NightSkiing_ac</th>\n",
       "      <td>NaN</td>\n",
       "    </tr>\n",
       "  </tbody>\n",
       "</table>\n",
       "</div>"
      ],
      "text/plain": [
       "                                         11\n",
       "Name               Heavenly Mountain Resort\n",
       "Region                        Sierra Nevada\n",
       "state                            California\n",
       "summit_elev                           10067\n",
       "vertical_drop                          3500\n",
       "base_elev                              7170\n",
       "trams                                     2\n",
       "fastEight                                 0\n",
       "fastSixes                                 2\n",
       "fastQuads                                 7\n",
       "quad                                      1\n",
       "triple                                    5\n",
       "double                                    3\n",
       "surface                                   8\n",
       "total_chairs                             28\n",
       "Runs                                     97\n",
       "TerrainParks                              3\n",
       "LongestRun_mi                           5.5\n",
       "SkiableTerrain_ac                      4800\n",
       "Snow Making_ac                         3379\n",
       "daysOpenLastYear                        155\n",
       "yearsOpen                                64\n",
       "averageSnowfall                         360\n",
       "AdultWeekday                            NaN\n",
       "AdultWeekend                            NaN\n",
       "projectedDaysOpen                       157\n",
       "NightSkiing_ac                          NaN"
      ]
     },
     "execution_count": 90,
     "metadata": {},
     "output_type": "execute_result"
    }
   ],
   "source": [
    "ski_data[ski_data['Snow Making_ac'] > 3000].T"
   ]
  },
  {
   "cell_type": "markdown",
   "metadata": {},
   "source": [
    "You can adopt a similar approach as for the suspect skiable area value and do some spot checking. To save time, here is a link to the website for [Heavenly Mountain Resort](https://www.skiheavenly.com/the-mountain/about-the-mountain/mountain-info.aspx). From this you can glean that you have values for skiable terrain that agree. Furthermore, you can read that snowmaking covers 60% of the trails."
   ]
  },
  {
   "cell_type": "markdown",
   "metadata": {},
   "source": [
    "What, then, is your rough guess for the area covered by snowmaking?"
   ]
  },
  {
   "cell_type": "code",
   "execution_count": 91,
   "metadata": {},
   "outputs": [
    {
     "data": {
      "text/plain": [
       "2880.0"
      ]
     },
     "execution_count": 91,
     "metadata": {},
     "output_type": "execute_result"
    }
   ],
   "source": [
    ".6 * 4800"
   ]
  },
  {
   "cell_type": "markdown",
   "metadata": {},
   "source": [
    "This is less than the value of 3379 in your data so you may have a judgement call to make. However, notice something else. You have no ticket pricing information at all for this resort. Any further effort spent worrying about values for this resort will be wasted. You'll simply be dropping the entire row!"
   ]
  },
  {
   "cell_type": "markdown",
   "metadata": {},
   "source": [
    "##### 2.6.4.2.3 fastEight<a id='2.6.4.2.3_fastEight'></a>"
   ]
  },
  {
   "cell_type": "markdown",
   "metadata": {},
   "source": [
    "Look at the different fastEight values more closely:"
   ]
  },
  {
   "cell_type": "code",
   "execution_count": 92,
   "metadata": {},
   "outputs": [
    {
     "data": {
      "text/plain": [
       "0.0    163\n",
       "1.0      1\n",
       "Name: fastEight, dtype: int64"
      ]
     },
     "execution_count": 92,
     "metadata": {},
     "output_type": "execute_result"
    }
   ],
   "source": [
    "ski_data.fastEight.value_counts()"
   ]
  },
  {
   "cell_type": "markdown",
   "metadata": {},
   "source": [
    "Drop the fastEight column in its entirety; half the values are missing and all but the others are the value zero. There is essentially no information in this column."
   ]
  },
  {
   "cell_type": "code",
   "execution_count": 93,
   "metadata": {},
   "outputs": [],
   "source": [
    "#Code task 24#\n",
    "#Drop the 'fastEight' column from ski_data. Use inplace=True\n",
    "ski_data.drop(columns='fastEight', inplace=True)"
   ]
  },
  {
   "cell_type": "markdown",
   "metadata": {},
   "source": [
    "What about yearsOpen? How many resorts have purportedly been open for more than 100 years?"
   ]
  },
  {
   "cell_type": "code",
   "execution_count": 99,
   "metadata": {},
   "outputs": [
    {
     "data": {
      "text/plain": [
       "34      104.0\n",
       "115    2019.0\n",
       "Name: yearsOpen, dtype: float64"
      ]
     },
     "execution_count": 99,
     "metadata": {},
     "output_type": "execute_result"
    }
   ],
   "source": [
    "#Code task 25#\n",
    "#Filter the 'yearsOpen' column for values greater than 100\n",
    "#ski_data.yearsOpen[ski_data.yearsOpen > 100]\n",
    "#ski_data['Snow Making_ac'][ski_data['Snow Making_ac'] > 1000]\n",
    "ski_data['yearsOpen'][ski_data['yearsOpen'] > 100]"
   ]
  },
  {
   "cell_type": "markdown",
   "metadata": {},
   "source": [
    "Okay, one seems to have been open for 104 years. But beyond that, one is down as having been open for 2019 years. This is wrong! What shall you do about this?"
   ]
  },
  {
   "cell_type": "markdown",
   "metadata": {},
   "source": [
    "What does the distribution of yearsOpen look like if you exclude just the obviously wrong one?"
   ]
  },
  {
   "cell_type": "code",
   "execution_count": 100,
   "metadata": {},
   "outputs": [
    {
     "data": {
      "image/png": "[encoded data removed]",
      "text/plain": [
       "<Figure size 432x288 with 1 Axes>"
      ]
     },
     "metadata": {
      "needs_background": "light"
     },
     "output_type": "display_data"
    }
   ],
   "source": [
    "#Code task 26#\n",
    "#Call the hist method on 'yearsOpen' after filtering for values under 1000\n",
    "#Pass the argument bins=30 to hist(), but feel free to explore other values\n",
    "ski_data.yearsOpen[ski_data.yearsOpen < 1000].hist(bins = 30)\n",
    "plt.xlabel('Years open')\n",
    "plt.ylabel('Count')\n",
    "plt.title('Distribution of years open excluding 2019');"
   ]
  },
  {
   "cell_type": "markdown",
   "metadata": {},
   "source": [
    "The above distribution of years seems entirely plausible, including the 104 year value. You can certainly state that no resort will have been open for 2019 years! It likely means the resort opened in 2019. It could also mean the resort is due to open in 2019. You don't know when these data were gathered!"
   ]
  },
  {
   "cell_type": "markdown",
   "metadata": {},
   "source": [
    "Let's review the summary statistics for the years under 1000."
   ]
  },
  {
   "cell_type": "code",
   "execution_count": 101,
   "metadata": {},
   "outputs": [
    {
     "data": {
      "text/plain": [
       "count    328.000000\n",
       "mean      57.695122\n",
       "std       16.841182\n",
       "min        6.000000\n",
       "25%       50.000000\n",
       "50%       58.000000\n",
       "75%       68.250000\n",
       "max      104.000000\n",
       "Name: yearsOpen, dtype: float64"
      ]
     },
     "execution_count": 101,
     "metadata": {},
     "output_type": "execute_result"
    }
   ],
   "source": [
    "ski_data.yearsOpen[ski_data.yearsOpen < 1000].describe()"
   ]
  },
  {
   "cell_type": "markdown",
   "metadata": {},
   "source": [
    "The smallest number of years open otherwise is 6. You can't be sure whether this resort in question has been open zero years or one year and even whether the numbers are projections or actual. In any case, you would be adding a new youngest resort so it feels best to simply drop this row."
   ]
  },
  {
   "cell_type": "code",
   "execution_count": null,
   "metadata": {},
   "outputs": [],
   "source": [
    "ski_data = ski_data[ski_data.yearsOpen < 1000]"
   ]
  },
  {
   "cell_type": "markdown",
   "metadata": {},
   "source": [
    "##### 2.6.4.2.4 fastSixes and Trams<a id='2.6.4.2.4_fastSixes_and_Trams'></a>"
   ]
  },
  {
   "cell_type": "markdown",
   "metadata": {},
   "source": [
    "The other features you had mild concern over, you will not investigate further. Perhaps take some care when using these features."
   ]
  },
  {
   "cell_type": "markdown",
   "metadata": {},
   "source": [
    "## 2.7 Derive State-wide Summary Statistics For Our Market Segment<a id='2.7_Derive_State-wide_Summary_Statistics_For_Our_Market_Segment'></a>"
   ]
  },
  {
   "cell_type": "markdown",
   "metadata": {},
   "source": [
    "You have, by this point removed one row, but it was for a resort that may not have opened yet, or perhaps in its first season. Using your business knowledge, you know that state-wide supply and demand of certain skiing resources may well factor into pricing strategies. Does a resort dominate the available night skiing in a state? Or does it account for a large proportion of the total skiable terrain or days open?\n",
    "\n",
    "If you want to add any features to your data that captures the state-wide market size, you should do this now, before dropping any more rows. In the next section, you'll drop rows with missing price information. Although you don't know what those resorts charge for their tickets, you do know the resorts exists and have been open for at least six years. Thus, you'll now calculate some state-wide summary statistics for later use."
   ]
  },
  {
   "cell_type": "markdown",
   "metadata": {},
   "source": [
    "Many features in your data pertain to chairlifts, that is for getting people around each resort. These aren't relevant, nor are the features relating to altitudes. Features that you may be interested in are:\n",
    "\n",
    "* TerrainParks\n",
    "* SkiableTerrain_ac\n",
    "* daysOpenLastYear\n",
    "* NightSkiing_ac\n",
    "\n",
    "When you think about it, these are features it makes sense to sum: the total number of terrain parks, the total skiable area, the total number of days open, and the total area available for night skiing. You might consider the total number of ski runs, but understand that the skiable area is more informative than just a number of runs."
   ]
  },
  {
   "cell_type": "markdown",
   "metadata": {},
   "source": [
    "A fairly new groupby behaviour is [named aggregation](https://pandas-docs.github.io/pandas-docs-travis/whatsnew/v0.25.0.html). This allows us to clearly perform the aggregations you want whilst also creating informative output column names."
   ]
  },
  {
   "cell_type": "code",
   "execution_count": 121,
   "metadata": {},
   "outputs": [
    {
     "ename": "AttributeError",
     "evalue": "module 'pandas' has no attribute 'NamedAgg'",
     "output_type": "error",
     "traceback": [
      "\u001b[0;31m---------------------------------------------------------------------------\u001b[0m",
      "\u001b[0;31mAttributeError\u001b[0m                            Traceback (most recent call last)",
      "\u001b[0;32m<ipython-input-121-efc8e2f6b5db>\u001b[0m in \u001b[0;36m<module>\u001b[0;34m\u001b[0m\n\u001b[1;32m      6\u001b[0m \u001b[0;31m#what it does)\u001b[0m\u001b[0;34m\u001b[0m\u001b[0;34m\u001b[0m\u001b[0;34m\u001b[0m\u001b[0m\n\u001b[1;32m      7\u001b[0m state_summary = ski_data.groupby('state').agg(\n\u001b[0;32m----> 8\u001b[0;31m     \u001b[0mresorts_per_state\u001b[0m\u001b[0;34m=\u001b[0m\u001b[0mpd\u001b[0m\u001b[0;34m.\u001b[0m\u001b[0mNamedAgg\u001b[0m\u001b[0;34m(\u001b[0m\u001b[0mcolumn\u001b[0m\u001b[0;34m=\u001b[0m\u001b[0;34m'Name'\u001b[0m\u001b[0;34m,\u001b[0m \u001b[0maggfunc\u001b[0m\u001b[0;34m=\u001b[0m\u001b[0;34m'size'\u001b[0m\u001b[0;34m)\u001b[0m\u001b[0;34m,\u001b[0m \u001b[0;31m#could pick any column here\u001b[0m\u001b[0;34m\u001b[0m\u001b[0;34m\u001b[0m\u001b[0m\n\u001b[0m\u001b[1;32m      9\u001b[0m     \u001b[0mstate_total_skiable_area_ac\u001b[0m\u001b[0;34m=\u001b[0m\u001b[0mpd\u001b[0m\u001b[0;34m.\u001b[0m\u001b[0mNamedAgg\u001b[0m\u001b[0;34m(\u001b[0m\u001b[0mcolumn\u001b[0m\u001b[0;34m=\u001b[0m\u001b[0;34m'SkiableTerrain_ac'\u001b[0m\u001b[0;34m,\u001b[0m \u001b[0maggfunc\u001b[0m\u001b[0;34m=\u001b[0m\u001b[0;34m'sum'\u001b[0m\u001b[0;34m)\u001b[0m\u001b[0;34m,\u001b[0m\u001b[0;34m\u001b[0m\u001b[0;34m\u001b[0m\u001b[0m\n\u001b[1;32m     10\u001b[0m     \u001b[0mstate_total_days_open\u001b[0m\u001b[0;34m=\u001b[0m\u001b[0mpd\u001b[0m\u001b[0;34m.\u001b[0m\u001b[0mNamedAgg\u001b[0m\u001b[0;34m(\u001b[0m\u001b[0mcolumn\u001b[0m\u001b[0;34m=\u001b[0m\u001b[0;34m'daysOpenLastYear'\u001b[0m\u001b[0;34m,\u001b[0m \u001b[0maggfunc\u001b[0m\u001b[0;34m=\u001b[0m\u001b[0;34m'sum'\u001b[0m\u001b[0;34m)\u001b[0m\u001b[0;34m,\u001b[0m\u001b[0;34m\u001b[0m\u001b[0;34m\u001b[0m\u001b[0m\n",
      "\u001b[0;31mAttributeError\u001b[0m: module 'pandas' has no attribute 'NamedAgg'"
     ]
    }
   ],
   "source": [
    "#Code task 27#\n",
    "#Add named aggregations for the sum of 'daysOpenLastYear', 'TerrainParks', and 'NightSkiing_ac'\n",
    "#call them 'state_total_days_open', 'state_total_terrain_parks', and 'state_total_nightskiing_ac',\n",
    "#respectively\n",
    "#Finally, add a call to the reset_index() method (we recommend you experiment with and without this to see\n",
    "#what it does)\n",
    "state_summary = ski_data.groupby('state').agg(\n",
    "    resorts_per_state=pd.NamedAgg(column='Name', aggfunc='size'), #could pick any column here\n",
    "    state_total_skiable_area_ac=pd.NamedAgg(column='SkiableTerrain_ac', aggfunc='sum'),\n",
    "    state_total_days_open=pd.NamedAgg(column='daysOpenLastYear', aggfunc='sum'),\n",
    "    state_total_terrain_parks=pd.NamedAgg(column='TerrainParks', aggfunc='sum'),\n",
    "    state_total_nightskiing_ac=pd.NamedAgg(column='NightSkiing_ac', aggfunc='sum')\n",
    ").reset_index()\n",
    "state_summary.head()"
   ]
  },
  {
   "cell_type": "code",
   "execution_count": 122,
   "metadata": {},
   "outputs": [
    {
     "name": "stdout",
     "output_type": "stream",
     "text": [
      "0.24.2\n"
     ]
    }
   ],
   "source": [
    "print(pd.__version__)"
   ]
  },
  {
   "cell_type": "code",
   "execution_count": 123,
   "metadata": {},
   "outputs": [
    {
     "data": {
      "text/html": [
       "<div>\n",
       "<style scoped>\n",
       "    .dataframe tbody tr th:only-of-type {\n",
       "        vertical-align: middle;\n",
       "    }\n",
       "\n",
       "    .dataframe tbody tr th {\n",
       "        vertical-align: top;\n",
       "    }\n",
       "\n",
       "    .dataframe thead th {\n",
       "        text-align: right;\n",
       "    }\n",
       "</style>\n",
       "<table border=\"1\" class=\"dataframe\">\n",
       "  <thead>\n",
       "    <tr style=\"text-align: right;\">\n",
       "      <th></th>\n",
       "      <th>Name</th>\n",
       "      <th>Region</th>\n",
       "      <th>state</th>\n",
       "      <th>summit_elev</th>\n",
       "      <th>vertical_drop</th>\n",
       "      <th>base_elev</th>\n",
       "      <th>trams</th>\n",
       "      <th>fastSixes</th>\n",
       "      <th>fastQuads</th>\n",
       "      <th>quad</th>\n",
       "      <th>...</th>\n",
       "      <th>LongestRun_mi</th>\n",
       "      <th>SkiableTerrain_ac</th>\n",
       "      <th>Snow Making_ac</th>\n",
       "      <th>daysOpenLastYear</th>\n",
       "      <th>yearsOpen</th>\n",
       "      <th>averageSnowfall</th>\n",
       "      <th>AdultWeekday</th>\n",
       "      <th>AdultWeekend</th>\n",
       "      <th>projectedDaysOpen</th>\n",
       "      <th>NightSkiing_ac</th>\n",
       "    </tr>\n",
       "  </thead>\n",
       "  <tbody>\n",
       "    <tr>\n",
       "      <th>0</th>\n",
       "      <td>Alyeska Resort</td>\n",
       "      <td>Alaska</td>\n",
       "      <td>Alaska</td>\n",
       "      <td>3939</td>\n",
       "      <td>2500</td>\n",
       "      <td>250</td>\n",
       "      <td>1</td>\n",
       "      <td>0</td>\n",
       "      <td>2</td>\n",
       "      <td>2</td>\n",
       "      <td>...</td>\n",
       "      <td>1.0</td>\n",
       "      <td>1610.0</td>\n",
       "      <td>113.0</td>\n",
       "      <td>150.0</td>\n",
       "      <td>60.0</td>\n",
       "      <td>669.0</td>\n",
       "      <td>65.0</td>\n",
       "      <td>85.0</td>\n",
       "      <td>150.0</td>\n",
       "      <td>550.0</td>\n",
       "    </tr>\n",
       "    <tr>\n",
       "      <th>1</th>\n",
       "      <td>Eaglecrest Ski Area</td>\n",
       "      <td>Alaska</td>\n",
       "      <td>Alaska</td>\n",
       "      <td>2600</td>\n",
       "      <td>1540</td>\n",
       "      <td>1200</td>\n",
       "      <td>0</td>\n",
       "      <td>0</td>\n",
       "      <td>0</td>\n",
       "      <td>0</td>\n",
       "      <td>...</td>\n",
       "      <td>2.0</td>\n",
       "      <td>640.0</td>\n",
       "      <td>60.0</td>\n",
       "      <td>45.0</td>\n",
       "      <td>44.0</td>\n",
       "      <td>350.0</td>\n",
       "      <td>47.0</td>\n",
       "      <td>53.0</td>\n",
       "      <td>90.0</td>\n",
       "      <td>NaN</td>\n",
       "    </tr>\n",
       "    <tr>\n",
       "      <th>2</th>\n",
       "      <td>Hilltop Ski Area</td>\n",
       "      <td>Alaska</td>\n",
       "      <td>Alaska</td>\n",
       "      <td>2090</td>\n",
       "      <td>294</td>\n",
       "      <td>1796</td>\n",
       "      <td>0</td>\n",
       "      <td>0</td>\n",
       "      <td>0</td>\n",
       "      <td>0</td>\n",
       "      <td>...</td>\n",
       "      <td>1.0</td>\n",
       "      <td>30.0</td>\n",
       "      <td>30.0</td>\n",
       "      <td>150.0</td>\n",
       "      <td>36.0</td>\n",
       "      <td>69.0</td>\n",
       "      <td>30.0</td>\n",
       "      <td>34.0</td>\n",
       "      <td>152.0</td>\n",
       "      <td>30.0</td>\n",
       "    </tr>\n",
       "    <tr>\n",
       "      <th>3</th>\n",
       "      <td>Arizona Snowbowl</td>\n",
       "      <td>Arizona</td>\n",
       "      <td>Arizona</td>\n",
       "      <td>11500</td>\n",
       "      <td>2300</td>\n",
       "      <td>9200</td>\n",
       "      <td>0</td>\n",
       "      <td>1</td>\n",
       "      <td>0</td>\n",
       "      <td>2</td>\n",
       "      <td>...</td>\n",
       "      <td>2.0</td>\n",
       "      <td>777.0</td>\n",
       "      <td>104.0</td>\n",
       "      <td>122.0</td>\n",
       "      <td>81.0</td>\n",
       "      <td>260.0</td>\n",
       "      <td>89.0</td>\n",
       "      <td>89.0</td>\n",
       "      <td>122.0</td>\n",
       "      <td>NaN</td>\n",
       "    </tr>\n",
       "    <tr>\n",
       "      <th>4</th>\n",
       "      <td>Sunrise Park Resort</td>\n",
       "      <td>Arizona</td>\n",
       "      <td>Arizona</td>\n",
       "      <td>11100</td>\n",
       "      <td>1800</td>\n",
       "      <td>9200</td>\n",
       "      <td>0</td>\n",
       "      <td>0</td>\n",
       "      <td>1</td>\n",
       "      <td>2</td>\n",
       "      <td>...</td>\n",
       "      <td>1.2</td>\n",
       "      <td>800.0</td>\n",
       "      <td>80.0</td>\n",
       "      <td>115.0</td>\n",
       "      <td>49.0</td>\n",
       "      <td>250.0</td>\n",
       "      <td>74.0</td>\n",
       "      <td>78.0</td>\n",
       "      <td>104.0</td>\n",
       "      <td>80.0</td>\n",
       "    </tr>\n",
       "  </tbody>\n",
       "</table>\n",
       "<p>5 rows × 26 columns</p>\n",
       "</div>"
      ],
      "text/plain": [
       "                  Name   Region    state  summit_elev  vertical_drop  \\\n",
       "0       Alyeska Resort   Alaska   Alaska         3939           2500   \n",
       "1  Eaglecrest Ski Area   Alaska   Alaska         2600           1540   \n",
       "2     Hilltop Ski Area   Alaska   Alaska         2090            294   \n",
       "3     Arizona Snowbowl  Arizona  Arizona        11500           2300   \n",
       "4  Sunrise Park Resort  Arizona  Arizona        11100           1800   \n",
       "\n",
       "   base_elev  trams  fastSixes  fastQuads  quad  ...  LongestRun_mi  \\\n",
       "0        250      1          0          2     2  ...            1.0   \n",
       "1       1200      0          0          0     0  ...            2.0   \n",
       "2       1796      0          0          0     0  ...            1.0   \n",
       "3       9200      0          1          0     2  ...            2.0   \n",
       "4       9200      0          0          1     2  ...            1.2   \n",
       "\n",
       "   SkiableTerrain_ac  Snow Making_ac  daysOpenLastYear  yearsOpen  \\\n",
       "0             1610.0           113.0             150.0       60.0   \n",
       "1              640.0            60.0              45.0       44.0   \n",
       "2               30.0            30.0             150.0       36.0   \n",
       "3              777.0           104.0             122.0       81.0   \n",
       "4              800.0            80.0             115.0       49.0   \n",
       "\n",
       "   averageSnowfall  AdultWeekday  AdultWeekend  projectedDaysOpen  \\\n",
       "0            669.0          65.0          85.0              150.0   \n",
       "1            350.0          47.0          53.0               90.0   \n",
       "2             69.0          30.0          34.0              152.0   \n",
       "3            260.0          89.0          89.0              122.0   \n",
       "4            250.0          74.0          78.0              104.0   \n",
       "\n",
       "   NightSkiing_ac  \n",
       "0           550.0  \n",
       "1             NaN  \n",
       "2            30.0  \n",
       "3             NaN  \n",
       "4            80.0  \n",
       "\n",
       "[5 rows x 26 columns]"
      ]
     },
     "execution_count": 123,
     "metadata": {},
     "output_type": "execute_result"
    }
   ],
   "source": [
    "ski_data.head()"
   ]
  },
  {
   "cell_type": "code",
   "execution_count": null,
   "metadata": {},
   "outputs": [],
   "source": [
    "#Code task 27#\n",
    "#Add named aggregations for the sum of 'daysOpenLastYear', 'TerrainParks', and 'NightSkiing_ac'\n",
    "#call them 'state_total_days_open', 'state_total_terrain_parks', and 'state_total_nightskiing_ac',\n",
    "#respectively\n",
    "#Finally, add a call to the reset_index() method (we recommend you experiment with and without this to see\n",
    "#what it does)\n",
    "state_summary = ski_data.groupby('state').agg(\n",
    "    resorts_per_state=pd.NamedAgg(column='Name', aggfunc='size'), #could pick any column here\n",
    "    state_total_skiable_area_ac=pd.NamedAgg(column='SkiableTerrain_ac', aggfunc='sum'),\n",
    "    state_total_days_open=pd.NamedAgg(column=__, aggfunc='sum'),\n",
    "    ___=pd.NamedAgg(column=___, aggfunc=___),\n",
    "    ___=pd.NamedAgg(column=___, aggfunc=___)\n",
    ").___\n",
    "state_summary.head()"
   ]
  },
  {
   "cell_type": "markdown",
   "metadata": {},
   "source": [
    "## 2.8 Drop Rows With No Price Data<a id='2.8_Drop_Rows_With_No_Price_Data'></a>"
   ]
  },
  {
   "cell_type": "markdown",
   "metadata": {},
   "source": [
    "You know there are two columns that refer to price: 'AdultWeekend' and 'AdultWeekday'. You can calculate the number of price values missing per row. This will obviously have to be either 0, 1, or 2, where 0 denotes no price values are missing and 2 denotes that both are missing."
   ]
  },
  {
   "cell_type": "code",
   "execution_count": 107,
   "metadata": {},
   "outputs": [
    {
     "data": {
      "text/plain": [
       "0    82.424242\n",
       "2    14.242424\n",
       "1     3.333333\n",
       "dtype: float64"
      ]
     },
     "execution_count": 107,
     "metadata": {},
     "output_type": "execute_result"
    }
   ],
   "source": [
    "missing_price = ski_data[['AdultWeekend', 'AdultWeekday']].isnull().sum(axis=1)\n",
    "missing_price.value_counts()/len(missing_price) * 100"
   ]
  },
  {
   "cell_type": "markdown",
   "metadata": {},
   "source": [
    "About 14% of the rows have no price data. As the price is your target, these rows are of no use. Time to lose them."
   ]
  },
  {
   "cell_type": "code",
   "execution_count": 108,
   "metadata": {},
   "outputs": [],
   "source": [
    "#Code task 28#\n",
    "#Use `missing_price` to remove rows from ski_data where both price values are missing\n",
    "ski_data = ski_data[missing_price != 2]"
   ]
  },
  {
   "cell_type": "markdown",
   "metadata": {},
   "source": [
    "## 2.9 Review distributions<a id='2.9_Review_distributions'></a>"
   ]
  },
  {
   "cell_type": "code",
   "execution_count": 109,
   "metadata": {},
   "outputs": [
    {
     "data": {
      "image/png": "[encoded data removed]",
      "text/plain": [
       "<Figure size 1080x720 with 25 Axes>"
      ]
     },
     "metadata": {
      "needs_background": "light"
     },
     "output_type": "display_data"
    }
   ],
   "source": [
    "ski_data.hist(figsize=(15, 10))\n",
    "plt.subplots_adjust(hspace=0.5);"
   ]
  },
  {
   "cell_type": "markdown",
   "metadata": {},
   "source": [
    "These distributions are much better. There are clearly some skewed distributions, so keep an eye on `fastQuads`, `fastSixes`, and perhaps `trams`. These lack much variance away from 0 and may have a small number of relatively extreme values.  Models failing to rate a feature as important when domain knowledge tells you it should be is an issue to look out for, as is a model being overly influenced by some extreme values. If you build a good machine learning pipeline, hopefully it will be robust to such issues, but you may also wish to consider nonlinear transformations of features."
   ]
  },
  {
   "cell_type": "markdown",
   "metadata": {},
   "source": [
    "## 2.10 Population data<a id='2.10_Population_data'></a>"
   ]
  },
  {
   "cell_type": "markdown",
   "metadata": {},
   "source": [
    "Population and area data for the US states can be obtained from [wikipedia](https://simple.wikipedia.org/wiki/List_of_U.S._states). Listen, you should have a healthy concern about using data you \"found on the Internet\". Make sure it comes from a reputable source. This table of data is useful because it allows you to easily pull and incorporate an external data set. It also allows you to proceed with an analysis that includes state sizes and populations for your 'first cut' model. Be explicit about your source (we documented it here in this workflow) and ensure it is open to inspection. All steps are subject to review, and it may be that a client has a specific source of data they trust that you should use to rerun the analysis."
   ]
  },
  {
   "cell_type": "code",
   "execution_count": 111,
   "metadata": {},
   "outputs": [],
   "source": [
    "#Code task 29#\n",
    "#Use pandas' `read_html` method to read the table from the URL below\n",
    "states_url = 'https://simple.wikipedia.org/w/index.php?title=List_of_U.S._states&oldid=7168473'\n",
    "usa_states = pd.read_html(states_url)"
   ]
  },
  {
   "cell_type": "code",
   "execution_count": 112,
   "metadata": {},
   "outputs": [
    {
     "data": {
      "text/plain": [
       "list"
      ]
     },
     "execution_count": 112,
     "metadata": {},
     "output_type": "execute_result"
    }
   ],
   "source": [
    "type(usa_states)"
   ]
  },
  {
   "cell_type": "code",
   "execution_count": 113,
   "metadata": {},
   "outputs": [
    {
     "data": {
      "text/plain": [
       "1"
      ]
     },
     "execution_count": 113,
     "metadata": {},
     "output_type": "execute_result"
    }
   ],
   "source": [
    "len(usa_states)"
   ]
  },
  {
   "cell_type": "code",
   "execution_count": 114,
   "metadata": {},
   "outputs": [
    {
     "data": {
      "text/html": [
       "<div>\n",
       "<style scoped>\n",
       "    .dataframe tbody tr th:only-of-type {\n",
       "        vertical-align: middle;\n",
       "    }\n",
       "\n",
       "    .dataframe tbody tr th {\n",
       "        vertical-align: top;\n",
       "    }\n",
       "\n",
       "    .dataframe thead tr th {\n",
       "        text-align: left;\n",
       "    }\n",
       "</style>\n",
       "<table border=\"1\" class=\"dataframe\">\n",
       "  <thead>\n",
       "    <tr>\n",
       "      <th></th>\n",
       "      <th colspan=\"2\" halign=\"left\">Name &amp;postal abbs. [1]</th>\n",
       "      <th colspan=\"2\" halign=\"left\">Cities</th>\n",
       "      <th>Established[upper-alpha 1]</th>\n",
       "      <th>Population[upper-alpha 2][3]</th>\n",
       "      <th colspan=\"2\" halign=\"left\">Total area[4]</th>\n",
       "      <th colspan=\"2\" halign=\"left\">Land area[4]</th>\n",
       "      <th colspan=\"2\" halign=\"left\">Water area[4]</th>\n",
       "      <th>Numberof Reps.</th>\n",
       "    </tr>\n",
       "    <tr>\n",
       "      <th></th>\n",
       "      <th>Name &amp;postal abbs. [1]</th>\n",
       "      <th>Name &amp;postal abbs. [1].1</th>\n",
       "      <th>Capital</th>\n",
       "      <th>Largest[5]</th>\n",
       "      <th>Established[upper-alpha 1]</th>\n",
       "      <th>Population[upper-alpha 2][3]</th>\n",
       "      <th>mi2</th>\n",
       "      <th>km2</th>\n",
       "      <th>mi2</th>\n",
       "      <th>km2</th>\n",
       "      <th>mi2</th>\n",
       "      <th>km2</th>\n",
       "      <th>Numberof Reps.</th>\n",
       "    </tr>\n",
       "  </thead>\n",
       "  <tbody>\n",
       "    <tr>\n",
       "      <th>0</th>\n",
       "      <td>Alabama</td>\n",
       "      <td>AL</td>\n",
       "      <td>Montgomery</td>\n",
       "      <td>Birmingham</td>\n",
       "      <td>Dec 14, 1819</td>\n",
       "      <td>4903185</td>\n",
       "      <td>52420</td>\n",
       "      <td>135767</td>\n",
       "      <td>50645</td>\n",
       "      <td>131171</td>\n",
       "      <td>1775</td>\n",
       "      <td>4597</td>\n",
       "      <td>7</td>\n",
       "    </tr>\n",
       "    <tr>\n",
       "      <th>1</th>\n",
       "      <td>Alaska</td>\n",
       "      <td>AK</td>\n",
       "      <td>Juneau</td>\n",
       "      <td>Anchorage</td>\n",
       "      <td>Jan 3, 1959</td>\n",
       "      <td>731545</td>\n",
       "      <td>665384</td>\n",
       "      <td>1723337</td>\n",
       "      <td>570641</td>\n",
       "      <td>1477953</td>\n",
       "      <td>94743</td>\n",
       "      <td>245384</td>\n",
       "      <td>1</td>\n",
       "    </tr>\n",
       "    <tr>\n",
       "      <th>2</th>\n",
       "      <td>Arizona</td>\n",
       "      <td>AZ</td>\n",
       "      <td>Phoenix</td>\n",
       "      <td>Phoenix</td>\n",
       "      <td>Feb 14, 1912</td>\n",
       "      <td>7278717</td>\n",
       "      <td>113990</td>\n",
       "      <td>295234</td>\n",
       "      <td>113594</td>\n",
       "      <td>294207</td>\n",
       "      <td>396</td>\n",
       "      <td>1026</td>\n",
       "      <td>9</td>\n",
       "    </tr>\n",
       "    <tr>\n",
       "      <th>3</th>\n",
       "      <td>Arkansas</td>\n",
       "      <td>AR</td>\n",
       "      <td>Little Rock</td>\n",
       "      <td>Little Rock</td>\n",
       "      <td>Jun 15, 1836</td>\n",
       "      <td>3017804</td>\n",
       "      <td>53179</td>\n",
       "      <td>137732</td>\n",
       "      <td>52035</td>\n",
       "      <td>134771</td>\n",
       "      <td>1143</td>\n",
       "      <td>2961</td>\n",
       "      <td>4</td>\n",
       "    </tr>\n",
       "    <tr>\n",
       "      <th>4</th>\n",
       "      <td>California</td>\n",
       "      <td>CA</td>\n",
       "      <td>Sacramento</td>\n",
       "      <td>Los Angeles</td>\n",
       "      <td>Sep 9, 1850</td>\n",
       "      <td>39512223</td>\n",
       "      <td>163695</td>\n",
       "      <td>423967</td>\n",
       "      <td>155779</td>\n",
       "      <td>403466</td>\n",
       "      <td>7916</td>\n",
       "      <td>20501</td>\n",
       "      <td>53</td>\n",
       "    </tr>\n",
       "  </tbody>\n",
       "</table>\n",
       "</div>"
      ],
      "text/plain": [
       "  Name &postal abbs. [1]                                Cities               \\\n",
       "  Name &postal abbs. [1] Name &postal abbs. [1].1      Capital   Largest[5]   \n",
       "0                Alabama                       AL   Montgomery   Birmingham   \n",
       "1                 Alaska                       AK       Juneau    Anchorage   \n",
       "2                Arizona                       AZ      Phoenix      Phoenix   \n",
       "3               Arkansas                       AR  Little Rock  Little Rock   \n",
       "4             California                       CA   Sacramento  Los Angeles   \n",
       "\n",
       "  Established[upper-alpha 1] Population[upper-alpha 2][3] Total area[4]  \\\n",
       "  Established[upper-alpha 1] Population[upper-alpha 2][3]           mi2   \n",
       "0               Dec 14, 1819                      4903185         52420   \n",
       "1                Jan 3, 1959                       731545        665384   \n",
       "2               Feb 14, 1912                      7278717        113990   \n",
       "3               Jun 15, 1836                      3017804         53179   \n",
       "4                Sep 9, 1850                     39512223        163695   \n",
       "\n",
       "           Land area[4]          Water area[4]         Numberof Reps.  \n",
       "       km2          mi2      km2           mi2     km2 Numberof Reps.  \n",
       "0   135767        50645   131171          1775    4597              7  \n",
       "1  1723337       570641  1477953         94743  245384              1  \n",
       "2   295234       113594   294207           396    1026              9  \n",
       "3   137732        52035   134771          1143    2961              4  \n",
       "4   423967       155779   403466          7916   20501             53  "
      ]
     },
     "execution_count": 114,
     "metadata": {},
     "output_type": "execute_result"
    }
   ],
   "source": [
    "usa_states = usa_states[0]\n",
    "usa_states.head()"
   ]
  },
  {
   "cell_type": "markdown",
   "metadata": {},
   "source": [
    "Note, in even the last year, the capability of `pd.read_html()` has improved. The merged cells you see in the web table are now handled much more conveniently, with 'Phoenix' now being duplicated so the subsequent columns remain aligned. But check this anyway. If you extract the established date column, you should just get dates. Recall previously you used the `.loc` accessor, because you were using labels. Now you want to refer to a column by its index position and so use `.iloc`. For a discussion on the difference use cases of `.loc` and `.iloc` refer to the [pandas documentation](https://pandas.pydata.org/pandas-docs/stable/user_guide/indexing.html)."
   ]
  },
  {
   "cell_type": "code",
   "execution_count": 116,
   "metadata": {},
   "outputs": [],
   "source": [
    "#Code task 30#\n",
    "#Use the iloc accessor to get the pandas Series for column number 4 from `usa_states`\n",
    "#It should be a column of dates\n",
    "established = usa_states.iloc[:, 4]"
   ]
  },
  {
   "cell_type": "code",
   "execution_count": 117,
   "metadata": {},
   "outputs": [
    {
     "data": {
      "text/plain": [
       "0     Dec 14, 1819\n",
       "1      Jan 3, 1959\n",
       "2     Feb 14, 1912\n",
       "3     Jun 15, 1836\n",
       "4      Sep 9, 1850\n",
       "5      Aug 1, 1876\n",
       "6      Jan 9, 1788\n",
       "7      Dec 7, 1787\n",
       "8      Mar 3, 1845\n",
       "9      Jan 2, 1788\n",
       "10    Aug 21, 1959\n",
       "11     Jul 3, 1890\n",
       "12     Dec 3, 1818\n",
       "13    Dec 11, 1816\n",
       "14    Dec 28, 1846\n",
       "15    Jan 29, 1861\n",
       "16     Jun 1, 1792\n",
       "17    Apr 30, 1812\n",
       "18    Mar 15, 1820\n",
       "19    Apr 28, 1788\n",
       "20     Feb 6, 1788\n",
       "21    Jan 26, 1837\n",
       "22    May 11, 1858\n",
       "23    Dec 10, 1817\n",
       "24    Aug 10, 1821\n",
       "25     Nov 8, 1889\n",
       "26     Mar 1, 1867\n",
       "27    Oct 31, 1864\n",
       "28    Jun 21, 1788\n",
       "29    Dec 18, 1787\n",
       "30     Jan 6, 1912\n",
       "31    Jul 26, 1788\n",
       "32    Nov 21, 1789\n",
       "33     Nov 2, 1889\n",
       "34     Mar 1, 1803\n",
       "35    Nov 16, 1907\n",
       "36    Feb 14, 1859\n",
       "37    Dec 12, 1787\n",
       "38    May 29, 1790\n",
       "39    May 23, 1788\n",
       "40     Nov 2, 1889\n",
       "41     Jun 1, 1796\n",
       "42    Dec 29, 1845\n",
       "43     Jan 4, 1896\n",
       "44     Mar 4, 1791\n",
       "45    Jun 25, 1788\n",
       "46    Nov 11, 1889\n",
       "47    Jun 20, 1863\n",
       "48    May 29, 1848\n",
       "49    Jul 10, 1890\n",
       "Name: (Established[upper-alpha 1], Established[upper-alpha 1]), dtype: object"
      ]
     },
     "execution_count": 117,
     "metadata": {},
     "output_type": "execute_result"
    }
   ],
   "source": [
    "established"
   ]
  },
  {
   "cell_type": "markdown",
   "metadata": {},
   "source": [
    "Extract the state name, population, and total area (square miles) columns."
   ]
  },
  {
   "cell_type": "code",
   "execution_count": 118,
   "metadata": {},
   "outputs": [
    {
     "data": {
      "text/html": [
       "<div>\n",
       "<style scoped>\n",
       "    .dataframe tbody tr th:only-of-type {\n",
       "        vertical-align: middle;\n",
       "    }\n",
       "\n",
       "    .dataframe tbody tr th {\n",
       "        vertical-align: top;\n",
       "    }\n",
       "\n",
       "    .dataframe thead th {\n",
       "        text-align: right;\n",
       "    }\n",
       "</style>\n",
       "<table border=\"1\" class=\"dataframe\">\n",
       "  <thead>\n",
       "    <tr style=\"text-align: right;\">\n",
       "      <th></th>\n",
       "      <th>state</th>\n",
       "      <th>state_population</th>\n",
       "      <th>state_area_sq_miles</th>\n",
       "    </tr>\n",
       "  </thead>\n",
       "  <tbody>\n",
       "    <tr>\n",
       "      <th>0</th>\n",
       "      <td>Alabama</td>\n",
       "      <td>4903185</td>\n",
       "      <td>52420</td>\n",
       "    </tr>\n",
       "    <tr>\n",
       "      <th>1</th>\n",
       "      <td>Alaska</td>\n",
       "      <td>731545</td>\n",
       "      <td>665384</td>\n",
       "    </tr>\n",
       "    <tr>\n",
       "      <th>2</th>\n",
       "      <td>Arizona</td>\n",
       "      <td>7278717</td>\n",
       "      <td>113990</td>\n",
       "    </tr>\n",
       "    <tr>\n",
       "      <th>3</th>\n",
       "      <td>Arkansas</td>\n",
       "      <td>3017804</td>\n",
       "      <td>53179</td>\n",
       "    </tr>\n",
       "    <tr>\n",
       "      <th>4</th>\n",
       "      <td>California</td>\n",
       "      <td>39512223</td>\n",
       "      <td>163695</td>\n",
       "    </tr>\n",
       "  </tbody>\n",
       "</table>\n",
       "</div>"
      ],
      "text/plain": [
       "        state  state_population  state_area_sq_miles\n",
       "0     Alabama           4903185                52420\n",
       "1      Alaska            731545               665384\n",
       "2     Arizona           7278717               113990\n",
       "3    Arkansas           3017804                53179\n",
       "4  California          39512223               163695"
      ]
     },
     "execution_count": 118,
     "metadata": {},
     "output_type": "execute_result"
    }
   ],
   "source": [
    "#Code task 31#\n",
    "#Now use the iloc accessor again to extract columns 0, 5, and 6 and the dataframe's `copy()` method # \n",
    "#Set the names of these extracted columns to 'state', 'state_population', and 'state_area_sq_miles',\n",
    "#respectively.\n",
    "usa_states_sub = usa_states.iloc[:, [0, 5, 6]].copy()\n",
    "usa_states_sub.columns = ['state', 'state_population', 'state_area_sq_miles']\n",
    "usa_states_sub.head()"
   ]
  },
  {
   "cell_type": "markdown",
   "metadata": {},
   "source": [
    "Do you have all the ski data states accounted for?"
   ]
  },
  {
   "cell_type": "code",
   "execution_count": null,
   "metadata": {},
   "outputs": [],
   "source": [
    "#Code task 32#\n",
    "#Find the states in `state_summary` that are not in `usa_states_sub`\n",
    "#Hint: set(list1) - set(list2) is an easy way to get items in list1 that are not in list2\n",
    "missing_states = ___(state_summary.state) - ___(usa_states_sub.state)\n",
    "missing_states"
   ]
  },
  {
   "cell_type": "markdown",
   "metadata": {},
   "source": [
    "No?? "
   ]
  },
  {
   "cell_type": "markdown",
   "metadata": {},
   "source": [
    "If you look at the table on the web, you can perhaps start to guess what the problem is. You can confirm your suspicion by pulling out state names that _contain_ 'Massachusetts', 'Pennsylvania', or 'Virginia' from usa_states_sub:"
   ]
  },
  {
   "cell_type": "code",
   "execution_count": null,
   "metadata": {},
   "outputs": [],
   "source": [
    "usa_states_sub.state[usa_states_sub.state.str.contains('Massachusetts|Pennsylvania|Rhode Island|Virginia')]"
   ]
  },
  {
   "cell_type": "markdown",
   "metadata": {},
   "source": [
    "Delete square brackets and their contents and try again:"
   ]
  },
  {
   "cell_type": "code",
   "execution_count": null,
   "metadata": {},
   "outputs": [],
   "source": [
    "#Code task 33#\n",
    "#Use pandas' Series' `replace()` method to replace anything within square brackets (including the brackets)\n",
    "#with the empty string. Do this inplace, so you need to specify the arguments:\n",
    "#to_replace='\\[.*\\]' #literal square bracket followed by anything or nothing followed by literal closing bracket\n",
    "#value='' #empty string as replacement\n",
    "#regex=True #we used a regex in our `to_replace` argument\n",
    "#inplace=True #Do this \"in place\"\n",
    "usa_states_sub.state.___(to_replace=___, value=__, regex=___, inplace=___)\n",
    "usa_states_sub.state[usa_states_sub.state.str.contains('Massachusetts|Pennsylvania|Rhode Island|Virginia')]"
   ]
  },
  {
   "cell_type": "code",
   "execution_count": null,
   "metadata": {},
   "outputs": [],
   "source": [
    "#Code task 34#\n",
    "#And now verify none of our states are missing by checking that there are no states in\n",
    "#state_summary that are not in usa_states_sub (as earlier using `set()`)\n",
    "missing_states = ___(state_summary.state) - ___(usa_states_sub.state)\n",
    "missing_states"
   ]
  },
  {
   "cell_type": "markdown",
   "metadata": {},
   "source": [
    "Better! You have an empty set for missing states now. You can confidently add the population and state area columns to the ski resort data."
   ]
  },
  {
   "cell_type": "code",
   "execution_count": null,
   "metadata": {},
   "outputs": [],
   "source": [
    "#Code task 35#\n",
    "#Use 'state_summary's `merge()` method to combine our new data in 'usa_states_sub'\n",
    "#specify the arguments how='left' and on='state'\n",
    "state_summary = state_summary.___(usa_states_sub, ___=___, ___=___)\n",
    "state_summary.head()"
   ]
  },
  {
   "cell_type": "markdown",
   "metadata": {},
   "source": [
    "Having created this data frame of summary statistics for various states, it would seem obvious to join this with the ski resort data to augment it with this additional data. You will do this, but not now. In the next notebook you will be exploring the data, including the relationships between the states. For that you want a separate row for each state, as you have here, and joining the data this soon means you'd need to separate and eliminate redundances in the state data when you wanted it."
   ]
  },
  {
   "cell_type": "markdown",
   "metadata": {},
   "source": [
    "## 2.11 Target Feature<a id='2.11_Target_Feature'></a>"
   ]
  },
  {
   "cell_type": "markdown",
   "metadata": {},
   "source": [
    "Finally, what will your target be when modelling ticket price? What relationship is there between weekday and weekend prices?"
   ]
  },
  {
   "cell_type": "code",
   "execution_count": null,
   "metadata": {},
   "outputs": [],
   "source": [
    "#Code task 36#\n",
    "#Use ski_data's `plot()` method to create a scatterplot (kind='scatter') with 'AdultWeekday' on the x-axis and\n",
    "#'AdultWeekend' on the y-axis\n",
    "ski_data.___(x=___, y=___, kind=___);"
   ]
  },
  {
   "cell_type": "markdown",
   "metadata": {},
   "source": [
    "A couple of observations can be made. Firstly, there is a clear line where weekend and weekday prices are equal. Weekend prices being higher than weekday prices seem restricted to sub $100 resorts. Recall from the boxplot earlier that the distribution for weekday and weekend prices in Montana seemed equal. Is this confirmed in the actual data for each resort? Big Mountain resort is in Montana, so the relationship between these quantities in this state are particularly relevant."
   ]
  },
  {
   "cell_type": "code",
   "execution_count": null,
   "metadata": {},
   "outputs": [],
   "source": [
    "#Code task 37#\n",
    "#Use the loc accessor on ski_data to print the 'AdultWeekend' and 'AdultWeekday' columns for Montana only\n",
    "ski_data.___[ski_data.state == ___, [___, ___]]"
   ]
  },
  {
   "cell_type": "markdown",
   "metadata": {},
   "source": [
    "Is there any reason to prefer weekend or weekday prices? Which is missing the least?"
   ]
  },
  {
   "cell_type": "code",
   "execution_count": null,
   "metadata": {},
   "outputs": [],
   "source": [
    "ski_data[['AdultWeekend', 'AdultWeekday']].isnull().sum()"
   ]
  },
  {
   "cell_type": "markdown",
   "metadata": {},
   "source": [
    "Weekend prices have the least missing values of the two, so drop the weekday prices and then keep just the rows that have weekend price."
   ]
  },
  {
   "cell_type": "code",
   "execution_count": null,
   "metadata": {},
   "outputs": [],
   "source": [
    "ski_data.drop(columns='AdultWeekday', inplace=True)\n",
    "ski_data.dropna(subset=['AdultWeekend'], inplace=True)"
   ]
  },
  {
   "cell_type": "code",
   "execution_count": null,
   "metadata": {},
   "outputs": [],
   "source": [
    "ski_data.shape"
   ]
  },
  {
   "cell_type": "markdown",
   "metadata": {},
   "source": [
    "Perform a final quick check on the data."
   ]
  },
  {
   "cell_type": "markdown",
   "metadata": {},
   "source": [
    "### 2.11.1 Number Of Missing Values By Row - Resort<a id='2.11.1_Number_Of_Missing_Values_By_Row_-_Resort'></a>"
   ]
  },
  {
   "cell_type": "markdown",
   "metadata": {},
   "source": [
    "Having dropped rows missing the desired target ticket price, what degree of missingness do you have for the remaining rows?"
   ]
  },
  {
   "cell_type": "code",
   "execution_count": null,
   "metadata": {},
   "outputs": [],
   "source": [
    "missing = pd.concat([ski_data.isnull().sum(axis=1), 100 * ski_data.isnull().mean(axis=1)], axis=1)\n",
    "missing.columns=['count', '%']\n",
    "missing.sort_values(by='count', ascending=False).head(10)"
   ]
  },
  {
   "cell_type": "markdown",
   "metadata": {},
   "source": [
    "These seem possibly curiously quantized..."
   ]
  },
  {
   "cell_type": "code",
   "execution_count": null,
   "metadata": {},
   "outputs": [],
   "source": [
    "missing['%'].unique()"
   ]
  },
  {
   "cell_type": "markdown",
   "metadata": {},
   "source": [
    "Yes, the percentage of missing values per row appear in multiples of 4."
   ]
  },
  {
   "cell_type": "code",
   "execution_count": null,
   "metadata": {},
   "outputs": [],
   "source": [
    "missing['%'].value_counts()"
   ]
  },
  {
   "cell_type": "markdown",
   "metadata": {},
   "source": [
    "This is almost as if values have been removed artificially... Nevertheless, what you don't know is how useful the missing features are in predicting ticket price. You shouldn't just drop rows that are missing several useless features."
   ]
  },
  {
   "cell_type": "code",
   "execution_count": null,
   "metadata": {},
   "outputs": [],
   "source": [
    "ski_data.info()"
   ]
  },
  {
   "cell_type": "markdown",
   "metadata": {},
   "source": [
    "There are still some missing values, and it's good to be aware of this, but leave them as is for now."
   ]
  },
  {
   "cell_type": "markdown",
   "metadata": {},
   "source": [
    "## 2.12 Save data<a id='2.12_Save_data'></a>"
   ]
  },
  {
   "cell_type": "code",
   "execution_count": null,
   "metadata": {},
   "outputs": [],
   "source": [
    "ski_data.shape"
   ]
  },
  {
   "cell_type": "markdown",
   "metadata": {},
   "source": [
    "Save this to your data directory, separately. Note that you were provided with the data in `raw_data` and you should saving derived data in a separate location. This guards against overwriting our original data."
   ]
  },
  {
   "cell_type": "code",
   "execution_count": null,
   "metadata": {},
   "outputs": [],
   "source": [
    "# save the data to a new csv file\n",
    "datapath = '../data'\n",
    "save_file(ski_data, 'ski_data_cleaned.csv', datapath)"
   ]
  },
  {
   "cell_type": "code",
   "execution_count": null,
   "metadata": {},
   "outputs": [],
   "source": [
    "# save the state_summary separately.\n",
    "datapath = '../data'\n",
    "save_file(state_summary, 'state_summary.csv', datapath)"
   ]
  },
  {
   "cell_type": "markdown",
   "metadata": {},
   "source": [
    "## 2.13 Summary<a id='2.13_Summary'></a>"
   ]
  },
  {
   "cell_type": "markdown",
   "metadata": {},
   "source": [
    "**Q: 3** Write a summary statement that highlights the key processes and findings from this notebook. This should include information such as the original number of rows in the data, whether our own resort was actually present etc. What columns, if any, have been removed? Any rows? Summarise the reasons why. Were any other issues found? What remedial actions did you take? State where you are in the project. Can you confirm what the target feature is for your desire to predict ticket price? How many rows were left in the data? Hint: this is a great opportunity to reread your notebook, check all cells have been executed in order and from a \"blank slate\" (restarting the kernel will do this), and that your workflow makes sense and follows a logical pattern. As you do this you can pull out salient information for inclusion in this summary. Thus, this section will provide an important overview of \"what\" and \"why\" without having to dive into the \"how\" or any unproductive or inconclusive steps along the way."
   ]
  },
  {
   "cell_type": "markdown",
   "metadata": {},
   "source": [
    "**A: 3** Your answer here"
   ]
  }
 ],
 "metadata": {
  "kernelspec": {
   "display_name": "Python 3",
   "language": "python",
   "name": "python3"
  },
  "language_info": {
   "codemirror_mode": {
    "name": "ipython",
    "version": 3
   },
   "file_extension": ".py",
   "mimetype": "text/x-python",
   "name": "python",
   "nbconvert_exporter": "python",
   "pygments_lexer": "ipython3",
   "version": "3.7.3"
  },
  "toc": {
   "base_numbering": 1,
   "nav_menu": {},
   "number_sections": true,
   "sideBar": true,
   "skip_h1_title": false,
   "title_cell": "Table of Contents",
   "title_sidebar": "Contents",
   "toc_cell": false,
   "toc_position": {},
   "toc_section_display": true,
   "toc_window_display": true
  },
  "varInspector": {
   "cols": {
    "lenName": 16,
    "lenType": 16,
    "lenVar": 40
   },
   "kernels_config": {
    "python": {
     "delete_cmd_postfix": "",
     "delete_cmd_prefix": "del ",
     "library": "var_list.py",
     "varRefreshCmd": "print(var_dic_list())"
    },
    "r": {
     "delete_cmd_postfix": ") ",
     "delete_cmd_prefix": "rm(",
     "library": "var_list.r",
     "varRefreshCmd": "cat(var_dic_list()) "
    }
   },
   "types_to_exclude": [
    "module",
    "function",
    "builtin_function_or_method",
    "instance",
    "_Feature"
   ],
   "window_display": false
  }
 },
 "nbformat": 4,
 "nbformat_minor": 4
}
